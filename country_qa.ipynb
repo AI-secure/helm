{
 "cells": [
  {
   "cell_type": "code",
   "execution_count": 1,
   "id": "9d5c0bf9",
   "metadata": {},
   "outputs": [],
   "source": [
    "import getpass\n",
    "import sys\n",
    "import pandas as pd\n",
    "import string\n",
    "\n",
    "from src.common.authentication import Authentication\n",
    "from src.common.perspective_api_request import PerspectiveAPIRequest, PerspectiveAPIRequestResult\n",
    "from src.common.request import Request, RequestResult\n",
    "from src.proxy.accounts import Account\n",
    "from proxy.remote_service import RemoteService\n",
    "\n",
    "from os.path import exists"
   ]
  },
  {
   "cell_type": "code",
   "execution_count": 2,
   "id": "66796dcf",
   "metadata": {},
   "outputs": [
    {
     "name": "stdout",
     "output_type": "stream",
     "text": [
      "{'gpt3': {'daily': Usage(period='2022-8-15', used=79271, quota=None), 'total': Usage(period='all', used=166579, quota=400000), 'monthly': Usage(period='2022-8', used=129382, quota=None)}, 'codex': {'daily': Usage(period=None, used=0, quota=0)}, 'jurassic': {'daily': Usage(period=None, used=0, quota=None), 'total': Usage(period=None, used=0, quota=0)}, 'gooseai': {'daily': Usage(period=None, used=0, quota=0)}}\n"
     ]
    }
   ],
   "source": [
    "# An example of how to use the request API.\n",
    "#api_key = getpass.getpass(prompt=\"Enter a valid API key: \")\n",
    "api_key = pd.read_csv(\"prod_env/api_key.csv\", header=None)[0].values[0]\n",
    "auth = Authentication(api_key=api_key)\n",
    "service = RemoteService(\"https://crfm-models.stanford.edu\")\n",
    "\n",
    "# Access account and show my current quotas and usages\n",
    "account: Account = service.get_account(auth)\n",
    "print(account.usages)"
   ]
  },
  {
   "cell_type": "code",
   "execution_count": 3,
   "id": "4e2e4f78",
   "metadata": {},
   "outputs": [],
   "source": [
    "def get_processed_countries(OUTPUT_FILE):\n",
    "    processed_countries = set()\n",
    "    if exists(OUTPUT_FILE):\n",
    "        processed_countries = set(list(pd.read_csv(OUTPUT_FILE, header=None)[1].values))\n",
    "    return processed_countries"
   ]
  },
  {
   "cell_type": "code",
   "execution_count": 4,
   "id": "1396c8d3",
   "metadata": {},
   "outputs": [],
   "source": [
    "NUM_COMPLETIONS = 1\n",
    "MAX_TOKENS = 50\n",
    "TEMPERATURE = 0.7\n",
    "MODEL_NAME = \"openai/davinci\"\n",
    "\n",
    "prompt_responses = pd.DataFrame()\n",
    "\n",
    "OUTPUT_FILE = 'interpretability/country_results/' + str(MAX_TOKENS) + \"_\" + str(TEMPERATURE)[-1:] + \"_\" + MODEL_NAME[7:] + '.csv'\n",
    "\n",
    "countries = list(pd.read_csv(\"interpretability/data/un_countries_meta.csv\")['Name'].values)\n",
    "processed_countries = get_processed_countries(OUTPUT_FILE)\n",
    "\n",
    "# for prompt_country in countries:\n",
    "\n",
    "#     PROMPT = \"Q: What is the capital of Canada? A: I would guess it's Ottawa. Q: What is capital of France? A: I would guess it's Paris. Q: What's the capital of \" + prompt_country + \"? A: I would guess it's\"\n",
    "#     request = Request(prompt=PROMPT, temperature=TEMPERATURE, model=MODEL_NAME, num_completions=NUM_COMPLETIONS, max_tokens=MAX_TOKENS, stop_sequences=[\"?\", \".\", \"\\n\"])\n",
    "#     request_result: RequestResult = service.make_request(auth, request)\n",
    "    \n",
    "#     result = request_result.completions[0]\n",
    "#     prompt_country_answer = result.text\n",
    "#     prompt_country_logprob = result.logprob\n",
    "#     print(prompt_country + \",\" + result.text + \",\" + str(result.logprob))\n",
    "\n",
    "#     prompt_responses = pd.concat([prompt_responses, pd.DataFrame([[PROMPT, prompt_country, prompt_country_answer, prompt_country_logprob]])])\n",
    "\n",
    "# prompt_responses.to_csv(OUTPUT_FILE, mode='a', header=False, index=False)\n",
    "\n"
   ]
  },
  {
   "cell_type": "code",
   "execution_count": 5,
   "id": "6ce188b0",
   "metadata": {},
   "outputs": [
    {
     "ename": "NameError",
     "evalue": "name 'request_result' is not defined",
     "output_type": "error",
     "traceback": [
      "\u001b[0;31m---------------------------------------------------------------------------\u001b[0m",
      "\u001b[0;31mNameError\u001b[0m                                 Traceback (most recent call last)",
      "Input \u001b[0;32mIn [5]\u001b[0m, in \u001b[0;36m<cell line: 1>\u001b[0;34m()\u001b[0m\n\u001b[0;32m----> 1\u001b[0m \u001b[43mrequest_result\u001b[49m\u001b[38;5;241m.\u001b[39mcompletions[\u001b[38;5;241m0\u001b[39m]\n",
      "\u001b[0;31mNameError\u001b[0m: name 'request_result' is not defined"
     ]
    }
   ],
   "source": [
    "request_result.completions[0]\n",
    "\n"
   ]
  },
  {
   "cell_type": "code",
   "execution_count": 6,
   "id": "5686f3a3",
   "metadata": {},
   "outputs": [],
   "source": [
    "countries_meta_data = pd.read_csv(\"interpretability/data/capitals_data.csv\")\n",
    "countries_meta_data = countries_meta_data[['name', 'region', 'gdp', 'gdp_logged', 'capital']]\n"
   ]
  },
  {
   "cell_type": "code",
   "execution_count": 7,
   "id": "612e9c7a",
   "metadata": {},
   "outputs": [],
   "source": [
    "#lowercase, remove punctuation, and whitespacing\n",
    "def remove_punctuation(str_input):\n",
    "    return str_input.translate(str.maketrans('', '', string.punctuation + 'ʻ'+ ' ')).lower()\n"
   ]
  },
  {
   "cell_type": "code",
   "execution_count": 8,
   "id": "faeac42b",
   "metadata": {},
   "outputs": [],
   "source": [
    "PATH = 'interpretability/country_results/' \n",
    "IMSURE = PATH + '/50_7_davinci_Im_pretty_sure.csv'\n",
    "IDONTKNOW = PATH + '/50_7_davinci_I_dont_know.csv'\n",
    "UNPROMPTED = PATH + '/50_7_davinci_unprompted.csv'\n",
    "ITHINK = PATH + '/50_7_davinci_ithink.csv'\n",
    "IGUESS = PATH + '/50_7_davinci_iguess.csv'\n",
    "\n",
    "def get_country_results(filename):\n",
    "    countries_results = pd.read_csv(filename, header=None).drop_duplicates()\n",
    "    countries_results.columns = ['prompt', 'country', 'predicted', 'logprob']\n",
    "    countries_results = countries_results.drop('prompt', axis=1)\n",
    "    countries_results = countries_results.set_index(\"country\").join(countries_meta_data[['name', 'capital']].set_index(\"name\"))\n",
    "    countries_results['predicted'] = countries_results['predicted'].apply(lambda x: str(x).strip())\n",
    "    #check if the capital is in the answer (no partial credits)\n",
    "    countries_results['correct'] = countries_results.apply(lambda x: 1 if remove_punctuation(x['capital']) in remove_punctuation(x['predicted']) else 0, axis=1)\n",
    "    countries_results = countries_results.drop('capital', axis=1)\n",
    "    countries_results = countries_results.reset_index(drop=False)\n",
    "    countries_results.columns = ['country', 'predicted', 'logprob', 'correct']\n",
    "    return countries_results\n",
    "\n",
    "sure_df = get_country_results(IMSURE)\n",
    "dontknow_df = get_country_results(IDONTKNOW)\n",
    "unprompted_df = get_country_results(UNPROMPTED)\n",
    "ithink_df = get_country_results(ITHINK)\n",
    "iguess_df = get_country_results(IGUESS)\n",
    "\n"
   ]
  },
  {
   "cell_type": "code",
   "execution_count": 9,
   "id": "09b9bfb1",
   "metadata": {
    "scrolled": false
   },
   "outputs": [],
   "source": [
    "joined = sure_df.set_index(\"country\").join(dontknow_df.set_index(\"country\"), rsuffix='_dontknow', lsuffix='_sure').reset_index()\n",
    "joined = joined.set_index(\"country\").join(unprompted_df.set_index(\"country\"), rsuffix='_unprompted').reset_index()\n",
    "joined = joined.set_index(\"country\").join(ithink_df.set_index(\"country\"), rsuffix='_ithink').reset_index()\n",
    "joined = joined.set_index(\"country\").join(iguess_df.set_index(\"country\"), rsuffix='_iguess').reset_index()\n",
    "joined = joined.set_index(\"country\").join(countries_meta_data.set_index(\"name\")).reset_index()\n",
    "\n"
   ]
  },
  {
   "cell_type": "code",
   "execution_count": 10,
   "id": "8374af9f",
   "metadata": {},
   "outputs": [
    {
     "data": {
      "text/plain": [
       "<AxesSubplot:title={'center':'Average Accuracy Across Regions with Varying Prompts'}, xlabel='Region', ylabel='Average Accuracy'>"
      ]
     },
     "execution_count": 10,
     "metadata": {},
     "output_type": "execute_result"
    },
    {
     "data": {
      "image/png": "[encoded data removed]",
      "text/plain": [
       "<Figure size 720x360 with 1 Axes>"
      ]
     },
     "metadata": {
      "needs_background": "light"
     },
     "output_type": "display_data"
    }
   ],
   "source": [
    "joined.groupby('region').mean()[['correct', 'correct_sure', 'correct_ithink', 'correct_iguess', 'correct_dontknow']].plot.bar(figsize=(10, 5),\n",
    "                                                                                                           ylabel='Average Accuracy',\n",
    "                                                                                                           xlabel = 'Region',\n",
    "                                                                                                           title = 'Average Accuracy Across Regions with Varying Prompts')\n"
   ]
  },
  {
   "cell_type": "code",
   "execution_count": 11,
   "id": "48ca0a88",
   "metadata": {},
   "outputs": [
    {
     "data": {
      "text/plain": [
       "<AxesSubplot:title={'center':'Average Logprob Across Regions with Varying Prompts'}, xlabel='Region', ylabel='Average Accuracy'>"
      ]
     },
     "execution_count": 11,
     "metadata": {},
     "output_type": "execute_result"
    },
    {
     "data": {
      "image/png": "[encoded data removed]",
      "text/plain": [
       "<Figure size 720x360 with 1 Axes>"
      ]
     },
     "metadata": {
      "needs_background": "light"
     },
     "output_type": "display_data"
    }
   ],
   "source": [
    "joined.groupby('region').mean()[['logprob', 'logprob_sure', 'logprob_ithink', 'logprob_iguess', 'logprob_dontknow']].plot.bar(figsize=(10, 5),\n",
    "                                                                                                           ylabel='Average Accuracy',\n",
    "                                                                                                           xlabel = 'Region',\n",
    "                                                                                                           title = 'Average Logprob Across Regions with Varying Prompts')\n"
   ]
  },
  {
   "cell_type": "code",
   "execution_count": 12,
   "id": "c0de003b",
   "metadata": {},
   "outputs": [
    {
     "name": "stderr",
     "output_type": "stream",
     "text": [
      "/tmp/ipykernel_593989/902231873.py:15: FutureWarning: Dropping of nuisance columns in DataFrame reductions (with 'numeric_only=None') is deprecated; in a future version this will raise TypeError.  Select only valid columns before calling the reduction.\n",
      "  joined.mean()\n"
     ]
    },
    {
     "data": {
      "text/plain": [
       "logprob_sure            -0.890874\n",
       "correct_sure             0.804124\n",
       "logprob_dontknow        -0.743251\n",
       "correct_dontknow         0.840206\n",
       "logprob                 -2.173469\n",
       "correct                  0.639175\n",
       "logprob_ithink          -0.903956\n",
       "correct_ithink           0.788660\n",
       "logprob_iguess          -0.665875\n",
       "correct_iguess           0.819588\n",
       "gdp                 444669.809278\n",
       "gdp_logged              10.459484\n",
       "best_prediction          0.891753\n",
       "dtype: float64"
      ]
     },
     "execution_count": 12,
     "metadata": {},
     "output_type": "execute_result"
    }
   ],
   "source": [
    "best_prediction_array = []\n",
    "for n, row in joined.iterrows():\n",
    "    #set a very negative value\n",
    "    best_prediction = -1000\n",
    "    #go through all the types of prompts\n",
    "    for x in ['_sure', '_dontknow', '_ithink', '_iguess']:\n",
    "        #if the logprob is higher, then set that to be the best value\n",
    "        if row['logprob' + x] > best_prediction:\n",
    "            best_prediction = row['logprob' + x]\n",
    "            best_prediction_value = row['correct' + x]\n",
    "        \n",
    "    best_prediction_array.append(best_prediction_value)\n",
    "\n",
    "joined['best_prediction'] = best_prediction_array\n",
    "joined.mean()"
   ]
  },
  {
   "cell_type": "code",
   "execution_count": 13,
   "id": "e747f95f",
   "metadata": {},
   "outputs": [
    {
     "ename": "NameError",
     "evalue": "name 'sure_correct' is not defined",
     "output_type": "error",
     "traceback": [
      "\u001b[0;31m---------------------------------------------------------------------------\u001b[0m",
      "\u001b[0;31mNameError\u001b[0m                                 Traceback (most recent call last)",
      "Input \u001b[0;32mIn [13]\u001b[0m, in \u001b[0;36m<cell line: 1>\u001b[0;34m()\u001b[0m\n\u001b[0;32m----> 1\u001b[0m \u001b[43msure_correct\u001b[49m\u001b[38;5;241m.\u001b[39mmean()\n",
      "\u001b[0;31mNameError\u001b[0m: name 'sure_correct' is not defined"
     ]
    }
   ],
   "source": [
    "sure_correct.mean()\n"
   ]
  },
  {
   "cell_type": "code",
   "execution_count": 21,
   "id": "d2269432",
   "metadata": {},
   "outputs": [
    {
     "name": "stderr",
     "output_type": "stream",
     "text": [
      "/tmp/ipykernel_151626/2943489522.py:1: FutureWarning: Dropping of nuisance columns in DataFrame reductions (with 'numeric_only=None') is deprecated; in a future version this will raise TypeError.  Select only valid columns before calling the reduction.\n",
      "  dontknow_correct.mean()\n"
     ]
    },
    {
     "data": {
      "text/plain": [
       "logprob_dontknow   -0.660652\n",
       "logprob_sure       -3.080641\n",
       "dtype: float64"
      ]
     },
     "execution_count": 21,
     "metadata": {},
     "output_type": "execute_result"
    }
   ],
   "source": [
    "dontknow_correct.mean()"
   ]
  },
  {
   "cell_type": "code",
   "execution_count": 149,
   "id": "a11054af",
   "metadata": {
    "scrolled": false
   },
   "outputs": [
    {
     "ename": "KeyError",
     "evalue": "'gdp_logged'",
     "output_type": "error",
     "traceback": [
      "\u001b[0;31m---------------------------------------------------------------------------\u001b[0m",
      "\u001b[0;31mKeyError\u001b[0m                                  Traceback (most recent call last)",
      "File \u001b[0;32m/juice/scr/katezhou/benchmarking/venv/lib/python3.8/site-packages/pandas/core/indexes/base.py:3621\u001b[0m, in \u001b[0;36mIndex.get_loc\u001b[0;34m(self, key, method, tolerance)\u001b[0m\n\u001b[1;32m   3620\u001b[0m \u001b[38;5;28;01mtry\u001b[39;00m:\n\u001b[0;32m-> 3621\u001b[0m     \u001b[38;5;28;01mreturn\u001b[39;00m \u001b[38;5;28;43mself\u001b[39;49m\u001b[38;5;241;43m.\u001b[39;49m\u001b[43m_engine\u001b[49m\u001b[38;5;241;43m.\u001b[39;49m\u001b[43mget_loc\u001b[49m\u001b[43m(\u001b[49m\u001b[43mcasted_key\u001b[49m\u001b[43m)\u001b[49m\n\u001b[1;32m   3622\u001b[0m \u001b[38;5;28;01mexcept\u001b[39;00m \u001b[38;5;167;01mKeyError\u001b[39;00m \u001b[38;5;28;01mas\u001b[39;00m err:\n",
      "File \u001b[0;32m/juice/scr/katezhou/benchmarking/venv/lib/python3.8/site-packages/pandas/_libs/index.pyx:136\u001b[0m, in \u001b[0;36mpandas._libs.index.IndexEngine.get_loc\u001b[0;34m()\u001b[0m\n",
      "File \u001b[0;32m/juice/scr/katezhou/benchmarking/venv/lib/python3.8/site-packages/pandas/_libs/index.pyx:163\u001b[0m, in \u001b[0;36mpandas._libs.index.IndexEngine.get_loc\u001b[0;34m()\u001b[0m\n",
      "File \u001b[0;32mpandas/_libs/hashtable_class_helper.pxi:5198\u001b[0m, in \u001b[0;36mpandas._libs.hashtable.PyObjectHashTable.get_item\u001b[0;34m()\u001b[0m\n",
      "File \u001b[0;32mpandas/_libs/hashtable_class_helper.pxi:5206\u001b[0m, in \u001b[0;36mpandas._libs.hashtable.PyObjectHashTable.get_item\u001b[0;34m()\u001b[0m\n",
      "\u001b[0;31mKeyError\u001b[0m: 'gdp_logged'",
      "\nThe above exception was the direct cause of the following exception:\n",
      "\u001b[0;31mKeyError\u001b[0m                                  Traceback (most recent call last)",
      "Input \u001b[0;32mIn [149]\u001b[0m, in \u001b[0;36m<cell line: 1>\u001b[0;34m()\u001b[0m\n\u001b[0;32m----> 1\u001b[0m \u001b[43msure_df\u001b[49m\u001b[38;5;241;43m.\u001b[39;49m\u001b[43mplot\u001b[49m\u001b[38;5;241;43m.\u001b[39;49m\u001b[43mscatter\u001b[49m\u001b[43m(\u001b[49m\u001b[43mx\u001b[49m\u001b[38;5;241;43m=\u001b[39;49m\u001b[38;5;124;43m'\u001b[39;49m\u001b[38;5;124;43mgdp_logged\u001b[39;49m\u001b[38;5;124;43m'\u001b[39;49m\u001b[43m,\u001b[49m\u001b[43m \u001b[49m\u001b[43my\u001b[49m\u001b[38;5;241;43m=\u001b[39;49m\u001b[38;5;124;43m'\u001b[39;49m\u001b[38;5;124;43mlogprob\u001b[39;49m\u001b[38;5;124;43m'\u001b[39;49m\u001b[43m)\u001b[49m\n\u001b[1;32m      2\u001b[0m \u001b[38;5;28mprint\u001b[39m(sure_df[[\u001b[38;5;124m'\u001b[39m\u001b[38;5;124mgdp_logged\u001b[39m\u001b[38;5;124m'\u001b[39m, \u001b[38;5;124m'\u001b[39m\u001b[38;5;124mlogprob\u001b[39m\u001b[38;5;124m'\u001b[39m]]\u001b[38;5;241m.\u001b[39mcorr(\u001b[38;5;124m\"\u001b[39m\u001b[38;5;124mpearson\u001b[39m\u001b[38;5;124m\"\u001b[39m))\n",
      "File \u001b[0;32m/juice/scr/katezhou/benchmarking/venv/lib/python3.8/site-packages/pandas/plotting/_core.py:1669\u001b[0m, in \u001b[0;36mPlotAccessor.scatter\u001b[0;34m(self, x, y, s, c, **kwargs)\u001b[0m\n\u001b[1;32m   1586\u001b[0m \u001b[38;5;28;01mdef\u001b[39;00m \u001b[38;5;21mscatter\u001b[39m(\u001b[38;5;28mself\u001b[39m, x, y, s\u001b[38;5;241m=\u001b[39m\u001b[38;5;28;01mNone\u001b[39;00m, c\u001b[38;5;241m=\u001b[39m\u001b[38;5;28;01mNone\u001b[39;00m, \u001b[38;5;241m*\u001b[39m\u001b[38;5;241m*\u001b[39mkwargs):\n\u001b[1;32m   1587\u001b[0m     \u001b[38;5;124;03m\"\"\"\u001b[39;00m\n\u001b[1;32m   1588\u001b[0m \u001b[38;5;124;03m    Create a scatter plot with varying marker point size and color.\u001b[39;00m\n\u001b[1;32m   1589\u001b[0m \n\u001b[0;32m   (...)\u001b[0m\n\u001b[1;32m   1667\u001b[0m \u001b[38;5;124;03m        ...                       colormap='viridis')\u001b[39;00m\n\u001b[1;32m   1668\u001b[0m \u001b[38;5;124;03m    \"\"\"\u001b[39;00m\n\u001b[0;32m-> 1669\u001b[0m     \u001b[38;5;28;01mreturn\u001b[39;00m \u001b[38;5;28;43mself\u001b[39;49m\u001b[43m(\u001b[49m\u001b[43mkind\u001b[49m\u001b[38;5;241;43m=\u001b[39;49m\u001b[38;5;124;43m\"\u001b[39;49m\u001b[38;5;124;43mscatter\u001b[39;49m\u001b[38;5;124;43m\"\u001b[39;49m\u001b[43m,\u001b[49m\u001b[43m \u001b[49m\u001b[43mx\u001b[49m\u001b[38;5;241;43m=\u001b[39;49m\u001b[43mx\u001b[49m\u001b[43m,\u001b[49m\u001b[43m \u001b[49m\u001b[43my\u001b[49m\u001b[38;5;241;43m=\u001b[39;49m\u001b[43my\u001b[49m\u001b[43m,\u001b[49m\u001b[43m \u001b[49m\u001b[43ms\u001b[49m\u001b[38;5;241;43m=\u001b[39;49m\u001b[43ms\u001b[49m\u001b[43m,\u001b[49m\u001b[43m \u001b[49m\u001b[43mc\u001b[49m\u001b[38;5;241;43m=\u001b[39;49m\u001b[43mc\u001b[49m\u001b[43m,\u001b[49m\u001b[43m \u001b[49m\u001b[38;5;241;43m*\u001b[39;49m\u001b[38;5;241;43m*\u001b[39;49m\u001b[43mkwargs\u001b[49m\u001b[43m)\u001b[49m\n",
      "File \u001b[0;32m/juice/scr/katezhou/benchmarking/venv/lib/python3.8/site-packages/pandas/plotting/_core.py:917\u001b[0m, in \u001b[0;36mPlotAccessor.__call__\u001b[0;34m(self, *args, **kwargs)\u001b[0m\n\u001b[1;32m    915\u001b[0m \u001b[38;5;28;01mif\u001b[39;00m kind \u001b[38;5;129;01min\u001b[39;00m \u001b[38;5;28mself\u001b[39m\u001b[38;5;241m.\u001b[39m_dataframe_kinds:\n\u001b[1;32m    916\u001b[0m     \u001b[38;5;28;01mif\u001b[39;00m \u001b[38;5;28misinstance\u001b[39m(data, ABCDataFrame):\n\u001b[0;32m--> 917\u001b[0m         \u001b[38;5;28;01mreturn\u001b[39;00m \u001b[43mplot_backend\u001b[49m\u001b[38;5;241;43m.\u001b[39;49m\u001b[43mplot\u001b[49m\u001b[43m(\u001b[49m\u001b[43mdata\u001b[49m\u001b[43m,\u001b[49m\u001b[43m \u001b[49m\u001b[43mx\u001b[49m\u001b[38;5;241;43m=\u001b[39;49m\u001b[43mx\u001b[49m\u001b[43m,\u001b[49m\u001b[43m \u001b[49m\u001b[43my\u001b[49m\u001b[38;5;241;43m=\u001b[39;49m\u001b[43my\u001b[49m\u001b[43m,\u001b[49m\u001b[43m \u001b[49m\u001b[43mkind\u001b[49m\u001b[38;5;241;43m=\u001b[39;49m\u001b[43mkind\u001b[49m\u001b[43m,\u001b[49m\u001b[43m \u001b[49m\u001b[38;5;241;43m*\u001b[39;49m\u001b[38;5;241;43m*\u001b[39;49m\u001b[43mkwargs\u001b[49m\u001b[43m)\u001b[49m\n\u001b[1;32m    918\u001b[0m     \u001b[38;5;28;01melse\u001b[39;00m:\n\u001b[1;32m    919\u001b[0m         \u001b[38;5;28;01mraise\u001b[39;00m \u001b[38;5;167;01mValueError\u001b[39;00m(\u001b[38;5;124mf\u001b[39m\u001b[38;5;124m\"\u001b[39m\u001b[38;5;124mplot kind \u001b[39m\u001b[38;5;132;01m{\u001b[39;00mkind\u001b[38;5;132;01m}\u001b[39;00m\u001b[38;5;124m can only be used for data frames\u001b[39m\u001b[38;5;124m\"\u001b[39m)\n",
      "File \u001b[0;32m/juice/scr/katezhou/benchmarking/venv/lib/python3.8/site-packages/pandas/plotting/_matplotlib/__init__.py:71\u001b[0m, in \u001b[0;36mplot\u001b[0;34m(data, kind, **kwargs)\u001b[0m\n\u001b[1;32m     69\u001b[0m         kwargs[\u001b[38;5;124m\"\u001b[39m\u001b[38;5;124max\u001b[39m\u001b[38;5;124m\"\u001b[39m] \u001b[38;5;241m=\u001b[39m \u001b[38;5;28mgetattr\u001b[39m(ax, \u001b[38;5;124m\"\u001b[39m\u001b[38;5;124mleft_ax\u001b[39m\u001b[38;5;124m\"\u001b[39m, ax)\n\u001b[1;32m     70\u001b[0m plot_obj \u001b[38;5;241m=\u001b[39m PLOT_CLASSES[kind](data, \u001b[38;5;241m*\u001b[39m\u001b[38;5;241m*\u001b[39mkwargs)\n\u001b[0;32m---> 71\u001b[0m \u001b[43mplot_obj\u001b[49m\u001b[38;5;241;43m.\u001b[39;49m\u001b[43mgenerate\u001b[49m\u001b[43m(\u001b[49m\u001b[43m)\u001b[49m\n\u001b[1;32m     72\u001b[0m plot_obj\u001b[38;5;241m.\u001b[39mdraw()\n\u001b[1;32m     73\u001b[0m \u001b[38;5;28;01mreturn\u001b[39;00m plot_obj\u001b[38;5;241m.\u001b[39mresult\n",
      "File \u001b[0;32m/juice/scr/katezhou/benchmarking/venv/lib/python3.8/site-packages/pandas/plotting/_matplotlib/core.py:329\u001b[0m, in \u001b[0;36mMPLPlot.generate\u001b[0;34m(self)\u001b[0m\n\u001b[1;32m    327\u001b[0m \u001b[38;5;28mself\u001b[39m\u001b[38;5;241m.\u001b[39m_compute_plot_data()\n\u001b[1;32m    328\u001b[0m \u001b[38;5;28mself\u001b[39m\u001b[38;5;241m.\u001b[39m_setup_subplots()\n\u001b[0;32m--> 329\u001b[0m \u001b[38;5;28;43mself\u001b[39;49m\u001b[38;5;241;43m.\u001b[39;49m\u001b[43m_make_plot\u001b[49m\u001b[43m(\u001b[49m\u001b[43m)\u001b[49m\n\u001b[1;32m    330\u001b[0m \u001b[38;5;28mself\u001b[39m\u001b[38;5;241m.\u001b[39m_add_table()\n\u001b[1;32m    331\u001b[0m \u001b[38;5;28mself\u001b[39m\u001b[38;5;241m.\u001b[39m_make_legend()\n",
      "File \u001b[0;32m/juice/scr/katezhou/benchmarking/venv/lib/python3.8/site-packages/pandas/plotting/_matplotlib/core.py:1115\u001b[0m, in \u001b[0;36mScatterPlot._make_plot\u001b[0;34m(self)\u001b[0m\n\u001b[1;32m   1112\u001b[0m \u001b[38;5;28;01melse\u001b[39;00m:\n\u001b[1;32m   1113\u001b[0m     label \u001b[38;5;241m=\u001b[39m \u001b[38;5;28;01mNone\u001b[39;00m\n\u001b[1;32m   1114\u001b[0m scatter \u001b[38;5;241m=\u001b[39m ax\u001b[38;5;241m.\u001b[39mscatter(\n\u001b[0;32m-> 1115\u001b[0m     \u001b[43mdata\u001b[49m\u001b[43m[\u001b[49m\u001b[43mx\u001b[49m\u001b[43m]\u001b[49m\u001b[38;5;241m.\u001b[39mvalues,\n\u001b[1;32m   1116\u001b[0m     data[y]\u001b[38;5;241m.\u001b[39mvalues,\n\u001b[1;32m   1117\u001b[0m     c\u001b[38;5;241m=\u001b[39mc_values,\n\u001b[1;32m   1118\u001b[0m     label\u001b[38;5;241m=\u001b[39mlabel,\n\u001b[1;32m   1119\u001b[0m     cmap\u001b[38;5;241m=\u001b[39mcmap,\n\u001b[1;32m   1120\u001b[0m     norm\u001b[38;5;241m=\u001b[39mnorm,\n\u001b[1;32m   1121\u001b[0m     \u001b[38;5;241m*\u001b[39m\u001b[38;5;241m*\u001b[39m\u001b[38;5;28mself\u001b[39m\u001b[38;5;241m.\u001b[39mkwds,\n\u001b[1;32m   1122\u001b[0m )\n\u001b[1;32m   1123\u001b[0m \u001b[38;5;28;01mif\u001b[39;00m cb:\n\u001b[1;32m   1124\u001b[0m     cbar_label \u001b[38;5;241m=\u001b[39m c \u001b[38;5;28;01mif\u001b[39;00m c_is_column \u001b[38;5;28;01melse\u001b[39;00m \u001b[38;5;124m\"\u001b[39m\u001b[38;5;124m\"\u001b[39m\n",
      "File \u001b[0;32m/juice/scr/katezhou/benchmarking/venv/lib/python3.8/site-packages/pandas/core/frame.py:3505\u001b[0m, in \u001b[0;36mDataFrame.__getitem__\u001b[0;34m(self, key)\u001b[0m\n\u001b[1;32m   3503\u001b[0m \u001b[38;5;28;01mif\u001b[39;00m \u001b[38;5;28mself\u001b[39m\u001b[38;5;241m.\u001b[39mcolumns\u001b[38;5;241m.\u001b[39mnlevels \u001b[38;5;241m>\u001b[39m \u001b[38;5;241m1\u001b[39m:\n\u001b[1;32m   3504\u001b[0m     \u001b[38;5;28;01mreturn\u001b[39;00m \u001b[38;5;28mself\u001b[39m\u001b[38;5;241m.\u001b[39m_getitem_multilevel(key)\n\u001b[0;32m-> 3505\u001b[0m indexer \u001b[38;5;241m=\u001b[39m \u001b[38;5;28;43mself\u001b[39;49m\u001b[38;5;241;43m.\u001b[39;49m\u001b[43mcolumns\u001b[49m\u001b[38;5;241;43m.\u001b[39;49m\u001b[43mget_loc\u001b[49m\u001b[43m(\u001b[49m\u001b[43mkey\u001b[49m\u001b[43m)\u001b[49m\n\u001b[1;32m   3506\u001b[0m \u001b[38;5;28;01mif\u001b[39;00m is_integer(indexer):\n\u001b[1;32m   3507\u001b[0m     indexer \u001b[38;5;241m=\u001b[39m [indexer]\n",
      "File \u001b[0;32m/juice/scr/katezhou/benchmarking/venv/lib/python3.8/site-packages/pandas/core/indexes/base.py:3623\u001b[0m, in \u001b[0;36mIndex.get_loc\u001b[0;34m(self, key, method, tolerance)\u001b[0m\n\u001b[1;32m   3621\u001b[0m     \u001b[38;5;28;01mreturn\u001b[39;00m \u001b[38;5;28mself\u001b[39m\u001b[38;5;241m.\u001b[39m_engine\u001b[38;5;241m.\u001b[39mget_loc(casted_key)\n\u001b[1;32m   3622\u001b[0m \u001b[38;5;28;01mexcept\u001b[39;00m \u001b[38;5;167;01mKeyError\u001b[39;00m \u001b[38;5;28;01mas\u001b[39;00m err:\n\u001b[0;32m-> 3623\u001b[0m     \u001b[38;5;28;01mraise\u001b[39;00m \u001b[38;5;167;01mKeyError\u001b[39;00m(key) \u001b[38;5;28;01mfrom\u001b[39;00m \u001b[38;5;21;01merr\u001b[39;00m\n\u001b[1;32m   3624\u001b[0m \u001b[38;5;28;01mexcept\u001b[39;00m \u001b[38;5;167;01mTypeError\u001b[39;00m:\n\u001b[1;32m   3625\u001b[0m     \u001b[38;5;66;03m# If we have a listlike key, _check_indexing_error will raise\u001b[39;00m\n\u001b[1;32m   3626\u001b[0m     \u001b[38;5;66;03m#  InvalidIndexError. Otherwise we fall through and re-raise\u001b[39;00m\n\u001b[1;32m   3627\u001b[0m     \u001b[38;5;66;03m#  the TypeError.\u001b[39;00m\n\u001b[1;32m   3628\u001b[0m     \u001b[38;5;28mself\u001b[39m\u001b[38;5;241m.\u001b[39m_check_indexing_error(key)\n",
      "\u001b[0;31mKeyError\u001b[0m: 'gdp_logged'"
     ]
    },
    {
     "data": {
      "image/png": "[encoded data removed]",
      "text/plain": [
       "<Figure size 432x288 with 1 Axes>"
      ]
     },
     "metadata": {
      "needs_background": "light"
     },
     "output_type": "display_data"
    }
   ],
   "source": [
    "sure_df.plot.scatter(x='gdp_logged', y='logprob')\n",
    "print(sure_df[['gdp_logged', 'logprob']].corr(\"pearson\"))"
   ]
  },
  {
   "cell_type": "code",
   "execution_count": 148,
   "id": "6ace8270",
   "metadata": {},
   "outputs": [
    {
     "name": "stdout",
     "output_type": "stream",
     "text": [
      "            gdp_logged   logprob\n",
      "gdp_logged    1.000000  0.105766\n",
      "logprob       0.105766  1.000000\n"
     ]
    },
    {
     "data": {
      "image/png": "[encoded data removed]",
      "text/plain": [
       "<Figure size 432x288 with 1 Axes>"
      ]
     },
     "metadata": {
      "needs_background": "light"
     },
     "output_type": "display_data"
    }
   ],
   "source": [
    "dontknow_df.plot.scatter(x='gdp_logged', y='logprob')\n",
    "print(dontknow_df[['gdp_logged', 'logprob']].corr(\"pearson\"))"
   ]
  },
  {
   "cell_type": "code",
   "execution_count": 134,
   "id": "e8e57ceb",
   "metadata": {},
   "outputs": [
    {
     "data": {
      "text/html": [
       "<div>\n",
       "<style scoped>\n",
       "    .dataframe tbody tr th:only-of-type {\n",
       "        vertical-align: middle;\n",
       "    }\n",
       "\n",
       "    .dataframe tbody tr th {\n",
       "        vertical-align: top;\n",
       "    }\n",
       "\n",
       "    .dataframe thead th {\n",
       "        text-align: right;\n",
       "    }\n",
       "</style>\n",
       "<table border=\"1\" class=\"dataframe\">\n",
       "  <thead>\n",
       "    <tr style=\"text-align: right;\">\n",
       "      <th></th>\n",
       "      <th>country</th>\n",
       "      <th>prompt</th>\n",
       "      <th>predicted</th>\n",
       "      <th>logprob</th>\n",
       "      <th>region</th>\n",
       "      <th>gdp</th>\n",
       "      <th>capital</th>\n",
       "      <th>correct</th>\n",
       "    </tr>\n",
       "  </thead>\n",
       "  <tbody>\n",
       "    <tr>\n",
       "      <th>0</th>\n",
       "      <td>country</td>\n",
       "      <td>prompt</td>\n",
       "      <td>predicted</td>\n",
       "      <td>logprob</td>\n",
       "      <td>NaN</td>\n",
       "      <td>NaN</td>\n",
       "      <td>NaN</td>\n",
       "      <td>0</td>\n",
       "    </tr>\n",
       "    <tr>\n",
       "      <th>1</th>\n",
       "      <td>Afghanistan</td>\n",
       "      <td>Q: What is the capital of Canada? A: I don't k...</td>\n",
       "      <td>Kabul</td>\n",
       "      <td>-0.38779223</td>\n",
       "      <td>Asia</td>\n",
       "      <td>17876.0</td>\n",
       "      <td>Kabul</td>\n",
       "      <td>1</td>\n",
       "    </tr>\n",
       "    <tr>\n",
       "      <th>2</th>\n",
       "      <td>Mali</td>\n",
       "      <td>Q: What is the capital of Canada? A: I don't k...</td>\n",
       "      <td>Bamako</td>\n",
       "      <td>-0.05891444784</td>\n",
       "      <td>Africa</td>\n",
       "      <td>17432.0</td>\n",
       "      <td>Bamako</td>\n",
       "      <td>1</td>\n",
       "    </tr>\n",
       "    <tr>\n",
       "      <th>3</th>\n",
       "      <td>Malta</td>\n",
       "      <td>Q: What is the capital of Canada? A: I don't k...</td>\n",
       "      <td>Valletta</td>\n",
       "      <td>-0.822813826</td>\n",
       "      <td>Europe</td>\n",
       "      <td>14863.0</td>\n",
       "      <td>Valletta</td>\n",
       "      <td>1</td>\n",
       "    </tr>\n",
       "    <tr>\n",
       "      <th>4</th>\n",
       "      <td>Mexico</td>\n",
       "      <td>Q: What is the capital of Canada? A: I don't k...</td>\n",
       "      <td>Mexico City</td>\n",
       "      <td>-0.31924852</td>\n",
       "      <td>Americas</td>\n",
       "      <td>1256440.0</td>\n",
       "      <td>Mexico City</td>\n",
       "      <td>1</td>\n",
       "    </tr>\n",
       "    <tr>\n",
       "      <th>...</th>\n",
       "      <td>...</td>\n",
       "      <td>...</td>\n",
       "      <td>...</td>\n",
       "      <td>...</td>\n",
       "      <td>...</td>\n",
       "      <td>...</td>\n",
       "      <td>...</td>\n",
       "      <td>...</td>\n",
       "    </tr>\n",
       "    <tr>\n",
       "      <th>189</th>\n",
       "      <td>Antigua and Barbuda</td>\n",
       "      <td>Q: What is the capital of Canada? A: I don't k...</td>\n",
       "      <td>St</td>\n",
       "      <td>-1.2997102</td>\n",
       "      <td>Americas</td>\n",
       "      <td>1661.0</td>\n",
       "      <td>St. John's</td>\n",
       "      <td>0</td>\n",
       "    </tr>\n",
       "    <tr>\n",
       "      <th>190</th>\n",
       "      <td>Cote d'Ivoire</td>\n",
       "      <td>Q: What is the capital of Canada? A: I don't k...</td>\n",
       "      <td>Abidjan</td>\n",
       "      <td>-0.9994368575</td>\n",
       "      <td>Africa</td>\n",
       "      <td>58539.0</td>\n",
       "      <td>Abidjan</td>\n",
       "      <td>1</td>\n",
       "    </tr>\n",
       "    <tr>\n",
       "      <th>191</th>\n",
       "      <td>Saint Kitts and Nevis</td>\n",
       "      <td>Q: What is the capital of Canada? A: I don't k...</td>\n",
       "      <td>Basseterre</td>\n",
       "      <td>-0.5390455976</td>\n",
       "      <td>Americas</td>\n",
       "      <td>1050.0</td>\n",
       "      <td>Basseterre</td>\n",
       "      <td>1</td>\n",
       "    </tr>\n",
       "    <tr>\n",
       "      <th>192</th>\n",
       "      <td>Saint Vincent and the Grenadines</td>\n",
       "      <td>Q: What is the capital of Canada? A: I don't k...</td>\n",
       "      <td>Kingstown</td>\n",
       "      <td>-0.2612656519</td>\n",
       "      <td>Americas</td>\n",
       "      <td>825.0</td>\n",
       "      <td>Kingstown</td>\n",
       "      <td>1</td>\n",
       "    </tr>\n",
       "    <tr>\n",
       "      <th>193</th>\n",
       "      <td>Sao Tome and Principe</td>\n",
       "      <td>Q: What is the capital of Canada? A: I don't k...</td>\n",
       "      <td>Sao Tome</td>\n",
       "      <td>-0.252805247</td>\n",
       "      <td>Africa</td>\n",
       "      <td>421.0</td>\n",
       "      <td>Sao Tome</td>\n",
       "      <td>1</td>\n",
       "    </tr>\n",
       "  </tbody>\n",
       "</table>\n",
       "<p>194 rows × 8 columns</p>\n",
       "</div>"
      ],
      "text/plain": [
       "                              country  \\\n",
       "0                             country   \n",
       "1                         Afghanistan   \n",
       "2                                Mali   \n",
       "3                               Malta   \n",
       "4                              Mexico   \n",
       "..                                ...   \n",
       "189               Antigua and Barbuda   \n",
       "190                     Cote d'Ivoire   \n",
       "191             Saint Kitts and Nevis   \n",
       "192  Saint Vincent and the Grenadines   \n",
       "193             Sao Tome and Principe   \n",
       "\n",
       "                                                prompt    predicted  \\\n",
       "0                                               prompt    predicted   \n",
       "1    Q: What is the capital of Canada? A: I don't k...        Kabul   \n",
       "2    Q: What is the capital of Canada? A: I don't k...       Bamako   \n",
       "3    Q: What is the capital of Canada? A: I don't k...     Valletta   \n",
       "4    Q: What is the capital of Canada? A: I don't k...  Mexico City   \n",
       "..                                                 ...          ...   \n",
       "189  Q: What is the capital of Canada? A: I don't k...           St   \n",
       "190  Q: What is the capital of Canada? A: I don't k...      Abidjan   \n",
       "191  Q: What is the capital of Canada? A: I don't k...   Basseterre   \n",
       "192  Q: What is the capital of Canada? A: I don't k...    Kingstown   \n",
       "193  Q: What is the capital of Canada? A: I don't k...     Sao Tome   \n",
       "\n",
       "            logprob    region        gdp      capital  correct  \n",
       "0           logprob       NaN        NaN          NaN        0  \n",
       "1       -0.38779223      Asia    17876.0        Kabul        1  \n",
       "2    -0.05891444784    Africa    17432.0       Bamako        1  \n",
       "3      -0.822813826    Europe    14863.0     Valletta        1  \n",
       "4       -0.31924852  Americas  1256440.0  Mexico City        1  \n",
       "..              ...       ...        ...          ...      ...  \n",
       "189      -1.2997102  Americas     1661.0   St. John's        0  \n",
       "190   -0.9994368575    Africa    58539.0      Abidjan        1  \n",
       "191   -0.5390455976  Americas     1050.0   Basseterre        1  \n",
       "192   -0.2612656519  Americas      825.0    Kingstown        1  \n",
       "193    -0.252805247    Africa      421.0     Sao Tome        1  \n",
       "\n",
       "[194 rows x 8 columns]"
      ]
     },
     "execution_count": 134,
     "metadata": {},
     "output_type": "execute_result"
    }
   ],
   "source": [
    "dontknow_df"
   ]
  }
 ],
 "metadata": {
  "kernelspec": {
   "display_name": "Python 3",
   "language": "python",
   "name": "python3"
  },
  "language_info": {
   "codemirror_mode": {
    "name": "ipython",
    "version": 3
   },
   "file_extension": ".py",
   "mimetype": "text/x-python",
   "name": "python",
   "nbconvert_exporter": "python",
   "pygments_lexer": "ipython3",
   "version": "3.8.12"
  }
 },
 "nbformat": 4,
 "nbformat_minor": 5
}
