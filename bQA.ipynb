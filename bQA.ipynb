{
 "cells": [
  {
   "cell_type": "code",
   "execution_count": 1,
   "id": "4d4da40f",
   "metadata": {},
   "outputs": [],
   "source": [
    "import getpass\n",
    "import sys\n",
    "import pandas as pd\n",
    "import string\n",
    "import numpy as np\n",
    "\n",
    "from src.common.authentication import Authentication\n",
    "from src.common.perspective_api_request import PerspectiveAPIRequest, PerspectiveAPIRequestResult\n",
    "from src.common.request import Request, RequestResult\n",
    "from src.proxy.accounts import Account\n",
    "from proxy.remote_service import RemoteService\n",
    "\n",
    "from os.path import exists"
   ]
  },
  {
   "cell_type": "code",
   "execution_count": 2,
   "id": "581520b0",
   "metadata": {},
   "outputs": [],
   "source": [
    "import json\n",
    "\n",
    "with open(\"boolQA/data/train.jsonl\") as f:\n",
    "    df = pd.DataFrame(json.loads(line) for line in f)"
   ]
  },
  {
   "cell_type": "code",
   "execution_count": 3,
   "id": "17a0b3a8",
   "metadata": {},
   "outputs": [
    {
     "name": "stdout",
     "output_type": "stream",
     "text": [
      "{'gpt3': {'daily': Usage(period='2022-8-15', used=109497, quota=None), 'total': Usage(period='all', used=196805, quota=400000), 'monthly': Usage(period='2022-8', used=159608, quota=None)}, 'codex': {'daily': Usage(period=None, used=0, quota=0)}, 'jurassic': {'daily': Usage(period=None, used=0, quota=None), 'total': Usage(period=None, used=0, quota=0)}, 'gooseai': {'daily': Usage(period=None, used=0, quota=0)}}\n"
     ]
    }
   ],
   "source": [
    "# An example of how to use the request API.\n",
    "#api_key = getpass.getpass(prompt=\"Enter a valid API key: \")\n",
    "api_key = pd.read_csv(\"prod_env/api_key.csv\", header=None)[0].values[0]\n",
    "auth = Authentication(api_key=api_key)\n",
    "service = RemoteService(\"https://crfm-models.stanford.edu\")\n",
    "\n",
    "# Access account and show my current quotas and usages\n",
    "account: Account = service.get_account(auth)\n",
    "print(account.usages)"
   ]
  },
  {
   "cell_type": "code",
   "execution_count": 4,
   "id": "31c328ea",
   "metadata": {},
   "outputs": [],
   "source": [
    "sample_questions = df.sample(n=100).reset_index()\n",
    "sample_questions.to_csv(\"boolQA/data/sample_questions.csv\", index=False)\n",
    "\n",
    "sample_examples = df.sample(n=100).reset_index()\n",
    "sample_examples.to_csv(\"boolQA/data/sample_examples.csv\", index=False)\n",
    "sample_examples.columns = [x + \"_example\" for x in sample_examples.columns]"
   ]
  },
  {
   "cell_type": "code",
   "execution_count": 5,
   "id": "23130eda",
   "metadata": {},
   "outputs": [],
   "source": [
    "#create a paired dataset\n",
    "sample_questions = pd.concat([sample_questions, sample_examples], axis=1)\n",
    "sample_questions.to_csv(\"boolQA/data/sample_questions1.csv\")"
   ]
  },
  {
   "cell_type": "code",
   "execution_count": 6,
   "id": "cdc1c5a5",
   "metadata": {
    "scrolled": true
   },
   "outputs": [],
   "source": [
    "NUM_COMPLETIONS = 1\n",
    "MAX_TOKENS = 50\n",
    "TEMPERATURE = 0.7\n",
    "MODEL_NAME = \"openai/davinci\"\n",
    "ECHO_PROMPT = False\n",
    "\n",
    "prompt_responses = pd.DataFrame()\n",
    "\n",
    "sample_questions = pd.read_csv(\"boolQA/data/sample_questions1.csv\")\n",
    "\n",
    "PATH = 'boolQA/results/'\n",
    "OUTPUT_FILE = PATH + str(MAX_TOKENS) + \"_\" + str(TEMPERATURE)[-1:] + \"_\" + MODEL_NAME[7:] + '.csv'\n",
    "STOP_SEQUENCES = [\"?\", \".\", \"!\", \"\\n\"]\n",
    "\n",
    "prefixes = [\"Maybe it's\",\n",
    "    \"I don't know, maybe it's\",\n",
    "    \"I'm pretty sure it's\",\n",
    "    \"I believe it's\",\n",
    "     \"I'm guessing it's\", \n",
    "    \"I think it's\"]\n",
    "\n",
    "# prefixes = [\"\"]\n",
    "\n",
    "# for n, row in sample_questions[50:].iterrows():\n",
    "#     print(n)\n",
    "\n",
    "#     example_question = row['question_example']\n",
    "#     example_answer = row['answer_example']\n",
    "\n",
    "#     question = row['question']\n",
    "#     answer = row['answer']\n",
    "    \n",
    "#     title = row['title']\n",
    "\n",
    "#     for prefix in prefixes:\n",
    "#         example = \"Q: \" + example_question + \"\\nA: \" + prefix + \" \" + str(example_answer) + \".\"\n",
    "#         prompt  = example + \"\\nQ: \" + question + \"\\nA: \" + prefix\n",
    "#         print(prompt)\n",
    "#         print(\"-----\")\n",
    "#         print(\"answer: \", answer)\n",
    "#         print(\"-----\")\n",
    "#         request = Request(prompt=prompt, temperature=TEMPERATURE, model=MODEL_NAME, num_completions=NUM_COMPLETIONS, max_tokens=MAX_TOKENS, stop_sequences=STOP_SEQUENCES, echo_prompt=ECHO_PROMPT)\n",
    "#         request_result: RequestResult = service.make_request(auth, request)\n",
    "\n",
    "#         for response in request_result.completions:\n",
    "#             print(\"prediction: \", response.text, \"\\t\",  response.logprob)\n",
    "#             print(\"-----\")\n",
    "#             prompt_responses = pd.concat([prompt_responses, pd.DataFrame([[prompt, example_question, example_answer, question, answer, title, prefix, response.text, response.logprob]])])\n",
    "#         print(\"title: \", title)\n",
    "#         print(\"-----\")\n",
    "\n",
    "# prompt_responses.to_csv(OUTPUT_FILE, mode='a', header=False, index=False)\n"
   ]
  },
  {
   "cell_type": "code",
   "execution_count": 7,
   "id": "54a833ca",
   "metadata": {},
   "outputs": [],
   "source": [
    "# prompt_responses.to_csv(OUTPUT_FILE, mode='a', header=False, index=False)\n"
   ]
  },
  {
   "cell_type": "code",
   "execution_count": 25,
   "id": "0edb2238",
   "metadata": {},
   "outputs": [],
   "source": [
    "#lowercase, remove punctuation\n",
    "def remove_punctuation(str_input):\n",
    "    return str_input.translate(str.maketrans('', '', string.punctuation))\n",
    "\n",
    "def check_answer_aliases(answer, prediction):\n",
    "\n",
    "    answer = remove_punctuation(answer.lower())\n",
    "    prediction = remove_punctuation(prediction.lower().strip(\" \"))\n",
    "\n",
    "    if answer == \"true\":\n",
    "        if prediction == 'yes' or prediction == 'true' or 'yes' in prediction:\n",
    "            return 1\n",
    "    if answer == \"false\":\n",
    "        if prediction == 'no' or prediction == 'false' or 'no' in prediction:\n",
    "            return 1\n",
    "    return 0\n",
    "\n",
    "    \n",
    "def answer_converter(prediction, answer):\n",
    "    original_prediction = prediction\n",
    "    \n",
    "    answer = remove_punctuation(answer.lower())\n",
    "    prediction = remove_punctuation(prediction.lower().strip(\" \"))\n",
    "\n",
    "    if answer == \"true\":\n",
    "        if prediction == 'yes' or prediction == 'true' or 'yes' in prediction:\n",
    "            return \"True\"\n",
    "    if answer == \"false\":\n",
    "        if prediction == 'no' or prediction == 'false' or 'no' in prediction:\n",
    "            return \"False\"\n",
    "    return original_prediction.strip(\" \")\n",
    "    \n",
    "    "
   ]
  },
  {
   "cell_type": "code",
   "execution_count": 26,
   "id": "0150d3cf",
   "metadata": {},
   "outputs": [],
   "source": [
    "result = pd.read_csv(OUTPUT_FILE, header=None).drop_duplicates()\n",
    "result.columns=['prompt', 'example_question', 'example_answer', 'question', 'answer', 'title', 'prefix', 'prediction', 'logprob']\n",
    "result['prefix'] = result['prefix'].fillna(\"unprompted\")\n",
    "result = result.dropna()\n",
    "#check if the prediction is in the answer\n",
    "# result['correct'] = result.apply(lambda x: check_answer_aliases(str(x['answer']), str(x['prediction'])), axis=1)\n",
    "\n",
    "result['answer'] = result['answer'].astype(str)\n",
    "result['prediction_normalized'] = result.apply(lambda x: answer_converter(str(x['prediction']), str(x['answer'])), axis=1)\n",
    "result['correct'] = result.apply(lambda x: 1 if (str(x['answer']) == str(x['prediction_normalized'])) else 0, axis=1)\n",
    "\n"
   ]
  },
  {
   "cell_type": "code",
   "execution_count": 27,
   "id": "0c092b14",
   "metadata": {},
   "outputs": [
    {
     "data": {
      "text/html": [
       "<div>\n",
       "<style scoped>\n",
       "    .dataframe tbody tr th:only-of-type {\n",
       "        vertical-align: middle;\n",
       "    }\n",
       "\n",
       "    .dataframe tbody tr th {\n",
       "        vertical-align: top;\n",
       "    }\n",
       "\n",
       "    .dataframe thead th {\n",
       "        text-align: right;\n",
       "    }\n",
       "</style>\n",
       "<table border=\"1\" class=\"dataframe\">\n",
       "  <thead>\n",
       "    <tr style=\"text-align: right;\">\n",
       "      <th></th>\n",
       "      <th>example_answer</th>\n",
       "      <th>logprob</th>\n",
       "      <th>correct</th>\n",
       "    </tr>\n",
       "    <tr>\n",
       "      <th>prefix</th>\n",
       "      <th></th>\n",
       "      <th></th>\n",
       "      <th></th>\n",
       "    </tr>\n",
       "  </thead>\n",
       "  <tbody>\n",
       "    <tr>\n",
       "      <th>I'm pretty sure it's</th>\n",
       "      <td>0.6</td>\n",
       "      <td>-1.122329</td>\n",
       "      <td>0.47</td>\n",
       "    </tr>\n",
       "    <tr>\n",
       "      <th>I believe it's</th>\n",
       "      <td>0.6</td>\n",
       "      <td>-1.120946</td>\n",
       "      <td>0.48</td>\n",
       "    </tr>\n",
       "    <tr>\n",
       "      <th>unprompted</th>\n",
       "      <td>0.6</td>\n",
       "      <td>-6.571368</td>\n",
       "      <td>0.48</td>\n",
       "    </tr>\n",
       "    <tr>\n",
       "      <th>I don't know, maybe it's</th>\n",
       "      <td>0.6</td>\n",
       "      <td>-0.574365</td>\n",
       "      <td>0.49</td>\n",
       "    </tr>\n",
       "    <tr>\n",
       "      <th>I think it's</th>\n",
       "      <td>0.6</td>\n",
       "      <td>-1.223091</td>\n",
       "      <td>0.51</td>\n",
       "    </tr>\n",
       "    <tr>\n",
       "      <th>I'm guessing it's</th>\n",
       "      <td>0.6</td>\n",
       "      <td>-1.341794</td>\n",
       "      <td>0.56</td>\n",
       "    </tr>\n",
       "    <tr>\n",
       "      <th>Maybe it's</th>\n",
       "      <td>0.6</td>\n",
       "      <td>-0.416070</td>\n",
       "      <td>0.57</td>\n",
       "    </tr>\n",
       "  </tbody>\n",
       "</table>\n",
       "</div>"
      ],
      "text/plain": [
       "                          example_answer   logprob  correct\n",
       "prefix                                                     \n",
       "I'm pretty sure it's                 0.6 -1.122329     0.47\n",
       "I believe it's                       0.6 -1.120946     0.48\n",
       "unprompted                           0.6 -6.571368     0.48\n",
       "I don't know, maybe it's             0.6 -0.574365     0.49\n",
       "I think it's                         0.6 -1.223091     0.51\n",
       "I'm guessing it's                    0.6 -1.341794     0.56\n",
       "Maybe it's                           0.6 -0.416070     0.57"
      ]
     },
     "execution_count": 27,
     "metadata": {},
     "output_type": "execute_result"
    }
   ],
   "source": [
    "result.groupby('prefix').mean().sort_values(by='correct')\n"
   ]
  },
  {
   "cell_type": "code",
   "execution_count": 28,
   "id": "1611bfa7",
   "metadata": {},
   "outputs": [
    {
     "data": {
      "text/plain": [
       "prompt                   Q: a standard voltage for homes in the united ...\n",
       "example_question         a standard voltage for homes in the united sta...\n",
       "example_answer                                                          60\n",
       "question                 was wizard of oz in color in 1939was fox news ...\n",
       "answer                   TrueTrueTrueFalseFalseTrueFalseFalseTrueFalseT...\n",
       "title                    The Wizard of Oz (1939 film)History of Fox New...\n",
       "prefix                   I think it'sMaybe it'sI don't know, maybe it's...\n",
       "prediction                False True True True True True False False Tr...\n",
       "logprob                                                         -23.782305\n",
       "prediction_normalized    FalseTrueTrueTrueTrueTrueFalseFalseTrueTrueTru...\n",
       "correct                                                                 49\n",
       "dtype: object"
      ]
     },
     "execution_count": 28,
     "metadata": {},
     "output_type": "execute_result"
    }
   ],
   "source": [
    "result.loc[result.groupby('example_question').logprob.idxmax()].sum()\n",
    "\n"
   ]
  },
  {
   "cell_type": "code",
   "execution_count": 37,
   "id": "f45f07bd",
   "metadata": {},
   "outputs": [
    {
     "data": {
      "text/html": [
       "<div>\n",
       "<style scoped>\n",
       "    .dataframe tbody tr th:only-of-type {\n",
       "        vertical-align: middle;\n",
       "    }\n",
       "\n",
       "    .dataframe tbody tr th {\n",
       "        vertical-align: top;\n",
       "    }\n",
       "\n",
       "    .dataframe thead th {\n",
       "        text-align: right;\n",
       "    }\n",
       "</style>\n",
       "<table border=\"1\" class=\"dataframe\">\n",
       "  <thead>\n",
       "    <tr style=\"text-align: right;\">\n",
       "      <th></th>\n",
       "      <th>prompt</th>\n",
       "      <th>example_question</th>\n",
       "      <th>example_answer</th>\n",
       "      <th>question</th>\n",
       "      <th>answer</th>\n",
       "      <th>title</th>\n",
       "      <th>prefix</th>\n",
       "      <th>prediction</th>\n",
       "      <th>logprob</th>\n",
       "      <th>prediction_normalized</th>\n",
       "      <th>correct</th>\n",
       "      <th>prob</th>\n",
       "      <th>positive_prob</th>\n",
       "    </tr>\n",
       "  </thead>\n",
       "  <tbody>\n",
       "    <tr>\n",
       "      <th>0</th>\n",
       "      <td>Q: is the movie talk to me based on a true sto...</td>\n",
       "      <td>is the movie talk to me based on a true story</td>\n",
       "      <td>True</td>\n",
       "      <td>can the president of the philippines be re ele...</td>\n",
       "      <td>False</td>\n",
       "      <td>President of the Philippines</td>\n",
       "      <td>unprompted</td>\n",
       "      <td>No, the president can only be elected once</td>\n",
       "      <td>-8.974628</td>\n",
       "      <td>False</td>\n",
       "      <td>1</td>\n",
       "      <td>1.265810e-04</td>\n",
       "      <td>9.998734e-01</td>\n",
       "    </tr>\n",
       "    <tr>\n",
       "      <th>3</th>\n",
       "      <td>Q: did remains of the day win any oscars\\nA: F...</td>\n",
       "      <td>did remains of the day win any oscars</td>\n",
       "      <td>False</td>\n",
       "      <td>can u marry a dead person in france</td>\n",
       "      <td>True</td>\n",
       "      <td>Posthumous marriage</td>\n",
       "      <td>unprompted</td>\n",
       "      <td>False</td>\n",
       "      <td>-1.154615</td>\n",
       "      <td>False</td>\n",
       "      <td>0</td>\n",
       "      <td>3.151790e-01</td>\n",
       "      <td>6.848210e-01</td>\n",
       "    </tr>\n",
       "    <tr>\n",
       "      <th>4</th>\n",
       "      <td>Q: is the book of james in the new testament\\n...</td>\n",
       "      <td>is the book of james in the new testament</td>\n",
       "      <td>True</td>\n",
       "      <td>can a state supreme court decision be appealed</td>\n",
       "      <td>True</td>\n",
       "      <td>State supreme court</td>\n",
       "      <td>unprompted</td>\n",
       "      <td>Yes, but not to the US Supreme Court</td>\n",
       "      <td>-8.736688</td>\n",
       "      <td>True</td>\n",
       "      <td>1</td>\n",
       "      <td>1.605849e-04</td>\n",
       "      <td>1.605849e-04</td>\n",
       "    </tr>\n",
       "    <tr>\n",
       "      <th>5</th>\n",
       "      <td>Q: is the show patrick melrose based on a true...</td>\n",
       "      <td>is the show patrick melrose based on a true story</td>\n",
       "      <td>True</td>\n",
       "      <td>can professional athletes play in the winter o...</td>\n",
       "      <td>True</td>\n",
       "      <td>Amateur sports</td>\n",
       "      <td>unprompted</td>\n",
       "      <td>yes, they ca</td>\n",
       "      <td>-14.527637</td>\n",
       "      <td>True</td>\n",
       "      <td>1</td>\n",
       "      <td>4.906000e-07</td>\n",
       "      <td>4.906000e-07</td>\n",
       "    </tr>\n",
       "    <tr>\n",
       "      <th>6</th>\n",
       "      <td>Q: is there a such thing as teacup pigs\\nA: Fa...</td>\n",
       "      <td>is there a such thing as teacup pigs</td>\n",
       "      <td>False</td>\n",
       "      <td>does the cat die in hide and seek</td>\n",
       "      <td>True</td>\n",
       "      <td>Hide and Seek (2005 film)</td>\n",
       "      <td>unprompted</td>\n",
       "      <td>yes</td>\n",
       "      <td>-2.455438</td>\n",
       "      <td>True</td>\n",
       "      <td>1</td>\n",
       "      <td>8.582562e-02</td>\n",
       "      <td>8.582562e-02</td>\n",
       "    </tr>\n",
       "    <tr>\n",
       "      <th>...</th>\n",
       "      <td>...</td>\n",
       "      <td>...</td>\n",
       "      <td>...</td>\n",
       "      <td>...</td>\n",
       "      <td>...</td>\n",
       "      <td>...</td>\n",
       "      <td>...</td>\n",
       "      <td>...</td>\n",
       "      <td>...</td>\n",
       "      <td>...</td>\n",
       "      <td>...</td>\n",
       "      <td>...</td>\n",
       "      <td>...</td>\n",
       "    </tr>\n",
       "    <tr>\n",
       "      <th>695</th>\n",
       "      <td>Q: does mike come out of a coma in desperate h...</td>\n",
       "      <td>does mike come out of a coma in desperate hous...</td>\n",
       "      <td>True</td>\n",
       "      <td>is there a children's day in america</td>\n",
       "      <td>True</td>\n",
       "      <td>Children's Day</td>\n",
       "      <td>I don't know, maybe it's</td>\n",
       "      <td>True</td>\n",
       "      <td>-0.355421</td>\n",
       "      <td>True</td>\n",
       "      <td>1</td>\n",
       "      <td>7.008785e-01</td>\n",
       "      <td>7.008785e-01</td>\n",
       "    </tr>\n",
       "    <tr>\n",
       "      <th>696</th>\n",
       "      <td>Q: does mike come out of a coma in desperate h...</td>\n",
       "      <td>does mike come out of a coma in desperate hous...</td>\n",
       "      <td>True</td>\n",
       "      <td>is there a children's day in america</td>\n",
       "      <td>True</td>\n",
       "      <td>Children's Day</td>\n",
       "      <td>I'm pretty sure it's</td>\n",
       "      <td>True</td>\n",
       "      <td>-1.087074</td>\n",
       "      <td>True</td>\n",
       "      <td>1</td>\n",
       "      <td>3.372016e-01</td>\n",
       "      <td>3.372016e-01</td>\n",
       "    </tr>\n",
       "    <tr>\n",
       "      <th>697</th>\n",
       "      <td>Q: does mike come out of a coma in desperate h...</td>\n",
       "      <td>does mike come out of a coma in desperate hous...</td>\n",
       "      <td>True</td>\n",
       "      <td>is there a children's day in america</td>\n",
       "      <td>True</td>\n",
       "      <td>Children's Day</td>\n",
       "      <td>I believe it's</td>\n",
       "      <td>True</td>\n",
       "      <td>-0.872574</td>\n",
       "      <td>True</td>\n",
       "      <td>1</td>\n",
       "      <td>4.178744e-01</td>\n",
       "      <td>4.178744e-01</td>\n",
       "    </tr>\n",
       "    <tr>\n",
       "      <th>698</th>\n",
       "      <td>Q: does mike come out of a coma in desperate h...</td>\n",
       "      <td>does mike come out of a coma in desperate hous...</td>\n",
       "      <td>True</td>\n",
       "      <td>is there a children's day in america</td>\n",
       "      <td>True</td>\n",
       "      <td>Children's Day</td>\n",
       "      <td>I'm guessing it's</td>\n",
       "      <td>False</td>\n",
       "      <td>-0.521827</td>\n",
       "      <td>False</td>\n",
       "      <td>0</td>\n",
       "      <td>5.934351e-01</td>\n",
       "      <td>4.065649e-01</td>\n",
       "    </tr>\n",
       "    <tr>\n",
       "      <th>699</th>\n",
       "      <td>Q: does mike come out of a coma in desperate h...</td>\n",
       "      <td>does mike come out of a coma in desperate hous...</td>\n",
       "      <td>True</td>\n",
       "      <td>is there a children's day in america</td>\n",
       "      <td>True</td>\n",
       "      <td>Children's Day</td>\n",
       "      <td>I think it's</td>\n",
       "      <td>True</td>\n",
       "      <td>-0.305309</td>\n",
       "      <td>True</td>\n",
       "      <td>1</td>\n",
       "      <td>7.368954e-01</td>\n",
       "      <td>7.368954e-01</td>\n",
       "    </tr>\n",
       "  </tbody>\n",
       "</table>\n",
       "<p>642 rows × 13 columns</p>\n",
       "</div>"
      ],
      "text/plain": [
       "                                                prompt  \\\n",
       "0    Q: is the movie talk to me based on a true sto...   \n",
       "3    Q: did remains of the day win any oscars\\nA: F...   \n",
       "4    Q: is the book of james in the new testament\\n...   \n",
       "5    Q: is the show patrick melrose based on a true...   \n",
       "6    Q: is there a such thing as teacup pigs\\nA: Fa...   \n",
       "..                                                 ...   \n",
       "695  Q: does mike come out of a coma in desperate h...   \n",
       "696  Q: does mike come out of a coma in desperate h...   \n",
       "697  Q: does mike come out of a coma in desperate h...   \n",
       "698  Q: does mike come out of a coma in desperate h...   \n",
       "699  Q: does mike come out of a coma in desperate h...   \n",
       "\n",
       "                                      example_question  example_answer  \\\n",
       "0        is the movie talk to me based on a true story            True   \n",
       "3                did remains of the day win any oscars           False   \n",
       "4            is the book of james in the new testament            True   \n",
       "5    is the show patrick melrose based on a true story            True   \n",
       "6                 is there a such thing as teacup pigs           False   \n",
       "..                                                 ...             ...   \n",
       "695  does mike come out of a coma in desperate hous...            True   \n",
       "696  does mike come out of a coma in desperate hous...            True   \n",
       "697  does mike come out of a coma in desperate hous...            True   \n",
       "698  does mike come out of a coma in desperate hous...            True   \n",
       "699  does mike come out of a coma in desperate hous...            True   \n",
       "\n",
       "                                              question answer  \\\n",
       "0    can the president of the philippines be re ele...  False   \n",
       "3                  can u marry a dead person in france   True   \n",
       "4       can a state supreme court decision be appealed   True   \n",
       "5    can professional athletes play in the winter o...   True   \n",
       "6                    does the cat die in hide and seek   True   \n",
       "..                                                 ...    ...   \n",
       "695               is there a children's day in america   True   \n",
       "696               is there a children's day in america   True   \n",
       "697               is there a children's day in america   True   \n",
       "698               is there a children's day in america   True   \n",
       "699               is there a children's day in america   True   \n",
       "\n",
       "                            title                    prefix  \\\n",
       "0    President of the Philippines                unprompted   \n",
       "3             Posthumous marriage                unprompted   \n",
       "4             State supreme court                unprompted   \n",
       "5                  Amateur sports                unprompted   \n",
       "6       Hide and Seek (2005 film)                unprompted   \n",
       "..                            ...                       ...   \n",
       "695                Children's Day  I don't know, maybe it's   \n",
       "696                Children's Day      I'm pretty sure it's   \n",
       "697                Children's Day            I believe it's   \n",
       "698                Children's Day         I'm guessing it's   \n",
       "699                Children's Day              I think it's   \n",
       "\n",
       "                                      prediction    logprob  \\\n",
       "0     No, the president can only be elected once  -8.974628   \n",
       "3                                          False  -1.154615   \n",
       "4           Yes, but not to the US Supreme Court  -8.736688   \n",
       "5                                   yes, they ca -14.527637   \n",
       "6                                            yes  -2.455438   \n",
       "..                                           ...        ...   \n",
       "695                                         True  -0.355421   \n",
       "696                                         True  -1.087074   \n",
       "697                                         True  -0.872574   \n",
       "698                                        False  -0.521827   \n",
       "699                                         True  -0.305309   \n",
       "\n",
       "    prediction_normalized  correct          prob  positive_prob  \n",
       "0                   False        1  1.265810e-04   9.998734e-01  \n",
       "3                   False        0  3.151790e-01   6.848210e-01  \n",
       "4                    True        1  1.605849e-04   1.605849e-04  \n",
       "5                    True        1  4.906000e-07   4.906000e-07  \n",
       "6                    True        1  8.582562e-02   8.582562e-02  \n",
       "..                    ...      ...           ...            ...  \n",
       "695                  True        1  7.008785e-01   7.008785e-01  \n",
       "696                  True        1  3.372016e-01   3.372016e-01  \n",
       "697                  True        1  4.178744e-01   4.178744e-01  \n",
       "698                 False        0  5.934351e-01   4.065649e-01  \n",
       "699                  True        1  7.368954e-01   7.368954e-01  \n",
       "\n",
       "[642 rows x 13 columns]"
      ]
     },
     "execution_count": 37,
     "metadata": {},
     "output_type": "execute_result"
    }
   ],
   "source": [
    "#converting to probabilities\n",
    "result['prob'] = result['logprob'].apply(lambda x: np.e**x)\n",
    "#probability of True\n",
    "result['positive_prob'] = result.apply(lambda x: ((1 - x['prob']) if (x['prediction_normalized'] == \"False\") else x['prob']), axis=1)\n",
    "filtered_result = result[result['prediction_normalized'].isin(set(['False', 'True']))]\n",
    "filtered_result"
   ]
  },
  {
   "cell_type": "code",
   "execution_count": 38,
   "id": "45f013e7",
   "metadata": {},
   "outputs": [],
   "source": [
    "def prediction_converter(x):\n",
    "    x = x.strip(\" \").lower()\n",
    "    if x == 'true' or x == 'yes':\n",
    "        return 1\n",
    "    elif x == \"false\" or x == 'no':\n",
    "        return 0\n",
    "    else:\n",
    "        return -1\n",
    "result['answer_binary'] = result['answer'].apply(lambda x: prediction_converter(str(x)))\n"
   ]
  },
  {
   "cell_type": "code",
   "execution_count": 40,
   "id": "24b0f1ca",
   "metadata": {},
   "outputs": [
    {
     "name": "stdout",
     "output_type": "stream",
     "text": [
      "I believe it's 0.28774527052113064\n",
      "I don't know, maybe it's 0.3161870139006063\n",
      "I think it's 0.2915608453299902\n",
      "I'm guessing it's 0.3010912129187558\n",
      "I'm pretty sure it's 0.31486741510669375\n",
      "Maybe it's 0.31238526070748523\n",
      "unprompted 0.5313962839864171\n"
     ]
    }
   ],
   "source": [
    "import sklearn\n",
    "from sklearn.metrics import brier_score_loss\n",
    "\n",
    "for n, group in result.groupby('prefix'):\n",
    "    print(n, brier_score_loss(group['answer_binary'].values, group['positive_prob'].values))\n",
    "    "
   ]
  },
  {
   "cell_type": "code",
   "execution_count": 41,
   "id": "32f383fe",
   "metadata": {
    "scrolled": false
   },
   "outputs": [
    {
     "data": {
      "image/png": "[encoded data removed]",
      "text/plain": [
       "<Figure size 432x288 with 1 Axes>"
      ]
     },
     "metadata": {
      "needs_background": "light"
     },
     "output_type": "display_data"
    },
    {
     "data": {
      "image/png": "[encoded data removed]",
      "text/plain": [
       "<Figure size 432x288 with 1 Axes>"
      ]
     },
     "metadata": {
      "needs_background": "light"
     },
     "output_type": "display_data"
    },
    {
     "data": {
      "image/png": "[encoded data removed]",
      "text/plain": [
       "<Figure size 432x288 with 1 Axes>"
      ]
     },
     "metadata": {
      "needs_background": "light"
     },
     "output_type": "display_data"
    },
    {
     "data": {
      "image/png": "[encoded data removed]",
      "text/plain": [
       "<Figure size 432x288 with 1 Axes>"
      ]
     },
     "metadata": {
      "needs_background": "light"
     },
     "output_type": "display_data"
    },
    {
     "data": {
      "image/png": "[encoded data removed]",
      "text/plain": [
       "<Figure size 432x288 with 1 Axes>"
      ]
     },
     "metadata": {
      "needs_background": "light"
     },
     "output_type": "display_data"
    },
    {
     "data": {
      "image/png": "[encoded data removed]",
      "text/plain": [
       "<Figure size 432x288 with 1 Axes>"
      ]
     },
     "metadata": {
      "needs_background": "light"
     },
     "output_type": "display_data"
    },
    {
     "data": {
      "image/png": "[encoded data removed]",
      "text/plain": [
       "<Figure size 432x288 with 1 Axes>"
      ]
     },
     "metadata": {
      "needs_background": "light"
     },
     "output_type": "display_data"
    }
   ],
   "source": [
    "import numpy as np\n",
    "import sklearn\n",
    "from sklearn.metrics import brier_score_loss\n",
    "\n",
    "grouped = result.groupby(\"prefix\")\n",
    "    \n",
    "for prefix, group in grouped:\n",
    "    accuracy = group['correct'].mean()\n",
    "    group['prob_bins'] = pd.cut(np.array(group['positive_prob'].values), 10)\n",
    "#     group = group.groupby('prob').mean()\n",
    "    brier_score = brier_score_loss(group['answer_binary'].values, group['positive_prob'].values)\n",
    "    group = group.groupby('prob_bins').mean().reset_index().sort_values(by='prob_bins').reset_index()\n",
    "    group.plot.scatter(x='positive_prob', y='correct', title= \"\\\"\" + prefix + \"\\\"\" + \" Brier : \" + str(round(brier_score, 4)) + \" Accuracy: \" + str(round(accuracy, 4)))\n",
    "\n"
   ]
  },
  {
   "cell_type": "code",
   "execution_count": null,
   "id": "3c0c3afe",
   "metadata": {},
   "outputs": [],
   "source": []
  }
 ],
 "metadata": {
  "kernelspec": {
   "display_name": "Python 3",
   "language": "python",
   "name": "python3"
  },
  "language_info": {
   "codemirror_mode": {
    "name": "ipython",
    "version": 3
   },
   "file_extension": ".py",
   "mimetype": "text/x-python",
   "name": "python",
   "nbconvert_exporter": "python",
   "pygments_lexer": "ipython3",
   "version": "3.8.12"
  }
 },
 "nbformat": 4,
 "nbformat_minor": 5
}
