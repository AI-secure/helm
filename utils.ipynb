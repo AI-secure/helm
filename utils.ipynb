{
 "cells": [
  {
   "cell_type": "code",
   "execution_count": 2,
   "id": "92ffe431",
   "metadata": {},
   "outputs": [],
   "source": [
    "import getpass\n",
    "import sys\n",
    "import pandas as pd\n",
    "import string\n",
    "\n",
    "from src.common.authentication import Authentication\n",
    "from src.common.perspective_api_request import PerspectiveAPIRequest, PerspectiveAPIRequestResult\n",
    "from src.common.request import Request, RequestResult\n",
    "from src.proxy.accounts import Account\n",
    "from proxy.remote_service import RemoteService\n",
    "\n",
    "from os.path import exists"
   ]
  },
  {
   "cell_type": "code",
   "execution_count": 3,
   "id": "eeca200e",
   "metadata": {},
   "outputs": [
    {
     "name": "stdout",
     "output_type": "stream",
     "text": [
      "{'gpt3': {'daily': Usage(period='2022-8-15', used=109497, quota=None), 'total': Usage(period='all', used=196805, quota=400000), 'monthly': Usage(period='2022-8', used=159608, quota=None)}, 'codex': {'daily': Usage(period=None, used=0, quota=0)}, 'jurassic': {'daily': Usage(period=None, used=0, quota=None), 'total': Usage(period=None, used=0, quota=0)}, 'gooseai': {'daily': Usage(period=None, used=0, quota=0)}}\n"
     ]
    }
   ],
   "source": [
    "# An example of how to use the request API.\n",
    "#api_key = getpass.getpass(prompt=\"Enter a valid API key: \")\n",
    "api_key = pd.read_csv(\"prod_env/api_key.csv\", header=None)[0].values[0]\n",
    "auth = Authentication(api_key=api_key)\n",
    "service = RemoteService(\"https://crfm-models.stanford.edu\")\n",
    "\n",
    "# Access account and show my current quotas and usages\n",
    "account: Account = service.get_account(auth)\n",
    "print(account.usages)\n"
   ]
  },
  {
   "cell_type": "code",
   "execution_count": 5,
   "id": "683452b1",
   "metadata": {},
   "outputs": [],
   "source": [
    "def make_paired_dataset(df, num_samples, output_file):\n",
    "    sample_questions = df.sample(n=num_samples)\n",
    "    sample_examples = df.sample(n=num_samples)\n",
    "    sample_examples.columns = [x + \"_example\" for x in sample_examples.columns]\n",
    "    \n",
    "    #create a paired dataset\n",
    "    sample_questions = pd.concat([sample_questions, sample_examples], axis=1)\n",
    "    sample_questions.to_csv(output_file, index=False)"
   ]
  },
  {
   "cell_type": "code",
   "execution_count": null,
   "id": "6d6cc86f",
   "metadata": {},
   "outputs": [],
   "source": []
  }
 ],
 "metadata": {
  "kernelspec": {
   "display_name": "Python 3",
   "language": "python",
   "name": "python3"
  },
  "language_info": {
   "codemirror_mode": {
    "name": "ipython",
    "version": 3
   },
   "file_extension": ".py",
   "mimetype": "text/x-python",
   "name": "python",
   "nbconvert_exporter": "python",
   "pygments_lexer": "ipython3",
   "version": "3.8.12"
  }
 },
 "nbformat": 4,
 "nbformat_minor": 5
}
