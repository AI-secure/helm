{
 "cells": [
  {
   "cell_type": "code",
   "execution_count": 2,
   "id": "57db2e1b",
   "metadata": {},
   "outputs": [],
   "source": [
    "import getpass\n",
    "import sys\n",
    "import pandas as pd\n",
    "import string\n",
    "\n",
    "from src.common.authentication import Authentication\n",
    "from src.common.perspective_api_request import PerspectiveAPIRequest, PerspectiveAPIRequestResult\n",
    "from src.common.request import Request, RequestResult\n",
    "from src.proxy.accounts import Account\n",
    "from proxy.remote_service import RemoteService\n",
    "\n",
    "from os.path import exists"
   ]
  },
  {
   "cell_type": "code",
   "execution_count": 3,
   "id": "44fb4969",
   "metadata": {},
   "outputs": [],
   "source": [
    "import json\n",
    "\n",
    "# load data using Python JSON module\n",
    "with open(\"jeopardy/data/jeopardy.json\",'r') as f:\n",
    "    data = json.loads(f.read())\n",
    "# Flatten data\n",
    "jeopardy_data = pd.json_normalize(data)\n"
   ]
  },
  {
   "cell_type": "code",
   "execution_count": 4,
   "id": "a7b24ef6",
   "metadata": {},
   "outputs": [
    {
     "name": "stdout",
     "output_type": "stream",
     "text": [
      "{'gpt3': {'daily': Usage(period='2022-8-15', used=109497, quota=None), 'total': Usage(period='all', used=196805, quota=400000), 'monthly': Usage(period='2022-8', used=159608, quota=None)}, 'codex': {'daily': Usage(period=None, used=0, quota=0)}, 'jurassic': {'daily': Usage(period=None, used=0, quota=None), 'total': Usage(period=None, used=0, quota=0)}, 'gooseai': {'daily': Usage(period=None, used=0, quota=0)}}\n"
     ]
    }
   ],
   "source": [
    "# An example of how to use the request API.\n",
    "#api_key = getpass.getpass(prompt=\"Enter a valid API key: \")\n",
    "api_key = pd.read_csv(\"prod_env/api_key.csv\", header=None)[0].values[0]\n",
    "auth = Authentication(api_key=api_key)\n",
    "service = RemoteService(\"https://crfm-models.stanford.edu\")\n",
    "\n",
    "# Access account and show my current quotas and usages\n",
    "account: Account = service.get_account(auth)\n",
    "print(account.usages)"
   ]
  },
  {
   "cell_type": "code",
   "execution_count": 5,
   "id": "93599730",
   "metadata": {},
   "outputs": [],
   "source": [
    "jeopardy_data = pd.json_normalize(data)\n",
    "jeopardy_data['value'] = jeopardy_data['value'].str.replace(\",\", \"\")\n",
    "# jeopardy_data['value'] = jeopardy_data['value'].str.replace(\"$\", \"\")\n",
    "jeopardy_data = jeopardy_data.dropna(subset='value')\n"
   ]
  },
  {
   "cell_type": "code",
   "execution_count": 6,
   "id": "e632c447",
   "metadata": {},
   "outputs": [
    {
     "data": {
      "text/html": [
       "<div>\n",
       "<style scoped>\n",
       "    .dataframe tbody tr th:only-of-type {\n",
       "        vertical-align: middle;\n",
       "    }\n",
       "\n",
       "    .dataframe tbody tr th {\n",
       "        vertical-align: top;\n",
       "    }\n",
       "\n",
       "    .dataframe thead th {\n",
       "        text-align: right;\n",
       "    }\n",
       "</style>\n",
       "<table border=\"1\" class=\"dataframe\">\n",
       "  <thead>\n",
       "    <tr style=\"text-align: right;\">\n",
       "      <th></th>\n",
       "      <th>category</th>\n",
       "      <th>air_date</th>\n",
       "      <th>question</th>\n",
       "      <th>value</th>\n",
       "      <th>answer</th>\n",
       "      <th>round</th>\n",
       "      <th>show_number</th>\n",
       "    </tr>\n",
       "  </thead>\n",
       "  <tbody>\n",
       "    <tr>\n",
       "      <th>0</th>\n",
       "      <td>HISTORY</td>\n",
       "      <td>2004-12-31</td>\n",
       "      <td>For the last 8 years of his life, Galileo was ...</td>\n",
       "      <td>$200</td>\n",
       "      <td>Copernicus</td>\n",
       "      <td>Jeopardy!</td>\n",
       "      <td>4680</td>\n",
       "    </tr>\n",
       "    <tr>\n",
       "      <th>1</th>\n",
       "      <td>ESPN's TOP 10 ALL-TIME ATHLETES</td>\n",
       "      <td>2004-12-31</td>\n",
       "      <td>No. 2: 1912 Olympian; football star at Carlisl...</td>\n",
       "      <td>$200</td>\n",
       "      <td>Jim Thorpe</td>\n",
       "      <td>Jeopardy!</td>\n",
       "      <td>4680</td>\n",
       "    </tr>\n",
       "    <tr>\n",
       "      <th>2</th>\n",
       "      <td>EVERYBODY TALKS ABOUT IT...</td>\n",
       "      <td>2004-12-31</td>\n",
       "      <td>The city of Yuma in this state has a record av...</td>\n",
       "      <td>$200</td>\n",
       "      <td>Arizona</td>\n",
       "      <td>Jeopardy!</td>\n",
       "      <td>4680</td>\n",
       "    </tr>\n",
       "    <tr>\n",
       "      <th>3</th>\n",
       "      <td>THE COMPANY LINE</td>\n",
       "      <td>2004-12-31</td>\n",
       "      <td>In 1963, live on \"The Art Linkletter Show\", th...</td>\n",
       "      <td>$200</td>\n",
       "      <td>McDonald\\'s</td>\n",
       "      <td>Jeopardy!</td>\n",
       "      <td>4680</td>\n",
       "    </tr>\n",
       "    <tr>\n",
       "      <th>4</th>\n",
       "      <td>EPITAPHS &amp; TRIBUTES</td>\n",
       "      <td>2004-12-31</td>\n",
       "      <td>Signer of the Dec. of Indep., framer of the Co...</td>\n",
       "      <td>$200</td>\n",
       "      <td>John Adams</td>\n",
       "      <td>Jeopardy!</td>\n",
       "      <td>4680</td>\n",
       "    </tr>\n",
       "    <tr>\n",
       "      <th>...</th>\n",
       "      <td>...</td>\n",
       "      <td>...</td>\n",
       "      <td>...</td>\n",
       "      <td>...</td>\n",
       "      <td>...</td>\n",
       "      <td>...</td>\n",
       "      <td>...</td>\n",
       "    </tr>\n",
       "    <tr>\n",
       "      <th>216924</th>\n",
       "      <td>OFF-BROADWAY</td>\n",
       "      <td>2006-05-11</td>\n",
       "      <td>In 2006 the cast of this long-running hit emba...</td>\n",
       "      <td>$2000</td>\n",
       "      <td>Stomp</td>\n",
       "      <td>Double Jeopardy!</td>\n",
       "      <td>4999</td>\n",
       "    </tr>\n",
       "    <tr>\n",
       "      <th>216925</th>\n",
       "      <td>RIDDLE ME THIS</td>\n",
       "      <td>2006-05-11</td>\n",
       "      <td>This Puccini opera turns on the solution to 3 ...</td>\n",
       "      <td>$2000</td>\n",
       "      <td>Turandot</td>\n",
       "      <td>Double Jeopardy!</td>\n",
       "      <td>4999</td>\n",
       "    </tr>\n",
       "    <tr>\n",
       "      <th>216926</th>\n",
       "      <td>\"T\" BIRDS</td>\n",
       "      <td>2006-05-11</td>\n",
       "      <td>In North America this term is properly applied...</td>\n",
       "      <td>$2000</td>\n",
       "      <td>a titmouse</td>\n",
       "      <td>Double Jeopardy!</td>\n",
       "      <td>4999</td>\n",
       "    </tr>\n",
       "    <tr>\n",
       "      <th>216927</th>\n",
       "      <td>AUTHORS IN THEIR YOUTH</td>\n",
       "      <td>2006-05-11</td>\n",
       "      <td>In Penny Lane, where this \"Hellraiser\" grew up...</td>\n",
       "      <td>$2000</td>\n",
       "      <td>Clive Barker</td>\n",
       "      <td>Double Jeopardy!</td>\n",
       "      <td>4999</td>\n",
       "    </tr>\n",
       "    <tr>\n",
       "      <th>216928</th>\n",
       "      <td>QUOTATIONS</td>\n",
       "      <td>2006-05-11</td>\n",
       "      <td>From Ft. Sill, Okla. he made the plea, Arizona...</td>\n",
       "      <td>$2000</td>\n",
       "      <td>Geronimo</td>\n",
       "      <td>Double Jeopardy!</td>\n",
       "      <td>4999</td>\n",
       "    </tr>\n",
       "  </tbody>\n",
       "</table>\n",
       "<p>213296 rows × 7 columns</p>\n",
       "</div>"
      ],
      "text/plain": [
       "                               category    air_date  \\\n",
       "0                               HISTORY  2004-12-31   \n",
       "1       ESPN's TOP 10 ALL-TIME ATHLETES  2004-12-31   \n",
       "2           EVERYBODY TALKS ABOUT IT...  2004-12-31   \n",
       "3                      THE COMPANY LINE  2004-12-31   \n",
       "4                   EPITAPHS & TRIBUTES  2004-12-31   \n",
       "...                                 ...         ...   \n",
       "216924                     OFF-BROADWAY  2006-05-11   \n",
       "216925                   RIDDLE ME THIS  2006-05-11   \n",
       "216926                        \"T\" BIRDS  2006-05-11   \n",
       "216927           AUTHORS IN THEIR YOUTH  2006-05-11   \n",
       "216928                       QUOTATIONS  2006-05-11   \n",
       "\n",
       "                                                 question  value  \\\n",
       "0       For the last 8 years of his life, Galileo was ...   $200   \n",
       "1       No. 2: 1912 Olympian; football star at Carlisl...   $200   \n",
       "2       The city of Yuma in this state has a record av...   $200   \n",
       "3       In 1963, live on \"The Art Linkletter Show\", th...   $200   \n",
       "4       Signer of the Dec. of Indep., framer of the Co...   $200   \n",
       "...                                                   ...    ...   \n",
       "216924  In 2006 the cast of this long-running hit emba...  $2000   \n",
       "216925  This Puccini opera turns on the solution to 3 ...  $2000   \n",
       "216926  In North America this term is properly applied...  $2000   \n",
       "216927  In Penny Lane, where this \"Hellraiser\" grew up...  $2000   \n",
       "216928  From Ft. Sill, Okla. he made the plea, Arizona...  $2000   \n",
       "\n",
       "              answer             round show_number  \n",
       "0         Copernicus         Jeopardy!        4680  \n",
       "1         Jim Thorpe         Jeopardy!        4680  \n",
       "2            Arizona         Jeopardy!        4680  \n",
       "3        McDonald\\'s         Jeopardy!        4680  \n",
       "4         John Adams         Jeopardy!        4680  \n",
       "...              ...               ...         ...  \n",
       "216924         Stomp  Double Jeopardy!        4999  \n",
       "216925      Turandot  Double Jeopardy!        4999  \n",
       "216926    a titmouse  Double Jeopardy!        4999  \n",
       "216927  Clive Barker  Double Jeopardy!        4999  \n",
       "216928      Geronimo  Double Jeopardy!        4999  \n",
       "\n",
       "[213296 rows x 7 columns]"
      ]
     },
     "execution_count": 6,
     "metadata": {},
     "output_type": "execute_result"
    }
   ],
   "source": [
    "#removing the quotes\n",
    "jeopardy_data['question'] = jeopardy_data['question'].apply(lambda x: x[1:-1])\n",
    "jeopardy_data"
   ]
  },
  {
   "cell_type": "code",
   "execution_count": 7,
   "id": "18e1655f",
   "metadata": {},
   "outputs": [],
   "source": [
    "# sample_questions = jeopardy_data.sample(n=100)\n",
    "# sample_questions.to_csv(\"jeopardy/data/sample_questions.csv\", index=False)\n",
    "\n",
    "# sample_examples = jeopardy_data.sample(n=100)\n",
    "# sample_examples.to_csv(\"jeopardy/data/sample_examples.csv\", index=False)\n"
   ]
  },
  {
   "cell_type": "code",
   "execution_count": 8,
   "id": "a1642493",
   "metadata": {},
   "outputs": [],
   "source": [
    "sample_questions = pd.read_csv(\"jeopardy/data/sample_questions1.csv\")\n",
    "# sample_examples = pd.read_csv(\"jeopardy/data/sample_examples1.csv\")"
   ]
  },
  {
   "cell_type": "code",
   "execution_count": 9,
   "id": "27e3aa6b",
   "metadata": {
    "scrolled": true
   },
   "outputs": [],
   "source": [
    "NUM_COMPLETIONS = 10\n",
    "MAX_TOKENS = 50\n",
    "TEMPERATURE = 0.7\n",
    "MODEL_NAME = \"openai/davinci\"\n",
    "ECHO_PROMPT = False\n",
    "\n",
    "prompt_responses = pd.DataFrame()\n",
    "\n",
    "# sample_questions = pd.read_csv(\"jeopardy/data/sample_questions1.csv\")\n",
    "# sample_examples = pd.read_csv(\"jeopardy/data/sample_examples1.csv\")\n",
    "\n",
    "\n",
    "PATH = 'jeopardy/results/'\n",
    "NAME = 'jeopardy_sample1'\n",
    "RESULT_FILE = PATH + str(MAX_TOKENS) + \"_\" + str(TEMPERATURE)[-1:] + \"_\" + MODEL_NAME[7:] + '_' + NAME + '.csv'\n",
    "OUTPUT_FILE = PATH + str(MAX_TOKENS) + \"_\" + str(TEMPERATURE)[-1:] + \"_\" + MODEL_NAME[7:] + '_' + NAME + '.csv'\n",
    "STOP_SEQUENCES = [\"?\", \".\", \"!\", \"\\n\"]\n",
    "\n",
    "result = pd.read_csv(RESULT_FILE, header=None)\n",
    "result.columns=['prompt', 'example_question', 'example_answer', 'question', 'answer', 'value', 'category', 'prefix', 'prediction', 'logprob']\n",
    "previous_sample = result[['example_question', 'example_answer', 'question', 'answer', 'value', 'category']].drop_duplicates()\n",
    "\n",
    "# prefixes = [\"I don't know maybe it's\",\n",
    "#     \"I have no idea maybe it's\",\n",
    "#     \"I'm pretty sure it's\",\n",
    "#     \"I believe it's\",\n",
    "#      \"I would guess it's\", \n",
    "#     \"I think it's\"]\n",
    "\n",
    "prefixes = [\"\"]\n",
    "\n",
    "# for n, row in previous_sample[:].iterrows():\n",
    "#     print(n)\n",
    "# #     example = sample_examples.sample(n=1)\n",
    "# #     for n, example_row in example.iterrows():\n",
    "# #         example_question = example_row['question']\n",
    "# #         example_answer = example_row['answer']\n",
    "\n",
    "#     example_question = row['example_question']\n",
    "#     example_answer = row['example_answer']\n",
    "\n",
    "#     question = row['question']\n",
    "#     answer = row['answer']\n",
    "    \n",
    "#     value = row['value']\n",
    "#     category = row['category']\n",
    "#     for prefix in prefixes:\n",
    "#         example = \"Q: \" + example_question + \"\\nA:\" + prefix + \" \" + example_answer + \".\"\n",
    "#         prompt  = example + \"\\nQ: \" + question + \"\\nA:\" + prefix\n",
    "#         print(prompt)\n",
    "#         print(\"-----\")\n",
    "#         print(\"answer: \", answer)\n",
    "#         print(\"-----\")\n",
    "#         request = Request(prompt=prompt, temperature=TEMPERATURE, model=MODEL_NAME, num_completions=NUM_COMPLETIONS, max_tokens=MAX_TOKENS, stop_sequences=STOP_SEQUENCES, echo_prompt=ECHO_PROMPT)\n",
    "#         request_result: RequestResult = service.make_request(auth, request)\n",
    "\n",
    "#         for response in request_result.completions:\n",
    "#             print(\"prediction: \", response.text, \"\\t\",  response.logprob)\n",
    "#             print(\"-----\")\n",
    "#             prompt_responses = pd.concat([prompt_responses, pd.DataFrame([[prompt, example_question, example_answer, question, answer, value, category, prefix, response.text, response.logprob]])])\n",
    "#         print(\"value: \", value)\n",
    "#         print(\"-----\")\n",
    "#         print(\"category: \", category)\n",
    "#         print(\"-----\")\n",
    "# prompt_responses.to_csv(OUTPUT_FILE, mode='a', header=False, index=False)\n"
   ]
  },
  {
   "cell_type": "code",
   "execution_count": 10,
   "id": "3d770d89",
   "metadata": {},
   "outputs": [],
   "source": [
    "# prompt_responses.to_csv(OUTPUT_FILE, mode='a', header=False, index=False)\n"
   ]
  },
  {
   "cell_type": "code",
   "execution_count": 11,
   "id": "2acafcca",
   "metadata": {},
   "outputs": [],
   "source": [
    "#lowercase, remove punctuation\n",
    "def remove_punctuation(str_input):\n",
    "    return str_input.translate(str.maketrans('', '', string.punctuation))\n",
    "\n",
    "def check_answer_aliases(answer, prediction):\n",
    "    \n",
    "    answer = remove_punctuation(answer.lower())\n",
    "    prediction = remove_punctuation(prediction.lower().strip(\" \"))\n",
    "#     print(\"answer:\", answer)\n",
    "#     print(\"---\")\n",
    "#     print(\"prediction:\" ,prediction)\n",
    "#     partial match\n",
    "    if (answer in prediction) or (prediction in answer):\n",
    "        return 1\n",
    "    else:\n",
    "        return 0\n",
    "    "
   ]
  },
  {
   "cell_type": "code",
   "execution_count": 12,
   "id": "d9ee70d1",
   "metadata": {},
   "outputs": [
    {
     "name": "stderr",
     "output_type": "stream",
     "text": [
      "/tmp/ipykernel_3976922/4056508172.py:8: FutureWarning: The default value of regex will change from True to False in a future version. In addition, single character regular expressions will *not* be treated as literal strings when regex=True.\n",
      "  result['value'] = result['value'].str.replace(\"$\", \"\").astype(int)\n"
     ]
    },
    {
     "data": {
      "text/html": [
       "<div>\n",
       "<style scoped>\n",
       "    .dataframe tbody tr th:only-of-type {\n",
       "        vertical-align: middle;\n",
       "    }\n",
       "\n",
       "    .dataframe tbody tr th {\n",
       "        vertical-align: top;\n",
       "    }\n",
       "\n",
       "    .dataframe thead th {\n",
       "        text-align: right;\n",
       "    }\n",
       "</style>\n",
       "<table border=\"1\" class=\"dataframe\">\n",
       "  <thead>\n",
       "    <tr style=\"text-align: right;\">\n",
       "      <th></th>\n",
       "      <th>value</th>\n",
       "      <th>logprob</th>\n",
       "      <th>correct</th>\n",
       "    </tr>\n",
       "    <tr>\n",
       "      <th>prefix</th>\n",
       "      <th></th>\n",
       "      <th></th>\n",
       "      <th></th>\n",
       "    </tr>\n",
       "  </thead>\n",
       "  <tbody>\n",
       "    <tr>\n",
       "      <th>I believe it's</th>\n",
       "      <td>767.0</td>\n",
       "      <td>-3.148062</td>\n",
       "      <td>0.54</td>\n",
       "    </tr>\n",
       "    <tr>\n",
       "      <th>I don't know maybe it's</th>\n",
       "      <td>767.0</td>\n",
       "      <td>-4.210195</td>\n",
       "      <td>0.39</td>\n",
       "    </tr>\n",
       "    <tr>\n",
       "      <th>I have no idea maybe it's</th>\n",
       "      <td>767.0</td>\n",
       "      <td>-4.309805</td>\n",
       "      <td>0.36</td>\n",
       "    </tr>\n",
       "    <tr>\n",
       "      <th>I think it's</th>\n",
       "      <td>767.0</td>\n",
       "      <td>-3.642952</td>\n",
       "      <td>0.48</td>\n",
       "    </tr>\n",
       "    <tr>\n",
       "      <th>I would guess it's</th>\n",
       "      <td>767.0</td>\n",
       "      <td>-3.539738</td>\n",
       "      <td>0.49</td>\n",
       "    </tr>\n",
       "    <tr>\n",
       "      <th>I'm pretty sure it's</th>\n",
       "      <td>767.0</td>\n",
       "      <td>-3.694149</td>\n",
       "      <td>0.51</td>\n",
       "    </tr>\n",
       "    <tr>\n",
       "      <th>Maybe it's</th>\n",
       "      <td>767.0</td>\n",
       "      <td>-3.051164</td>\n",
       "      <td>0.52</td>\n",
       "    </tr>\n",
       "    <tr>\n",
       "      <th>Surely it's</th>\n",
       "      <td>767.0</td>\n",
       "      <td>-2.860801</td>\n",
       "      <td>0.55</td>\n",
       "    </tr>\n",
       "    <tr>\n",
       "      <th>unprompted</th>\n",
       "      <td>767.0</td>\n",
       "      <td>-2.766922</td>\n",
       "      <td>0.58</td>\n",
       "    </tr>\n",
       "  </tbody>\n",
       "</table>\n",
       "</div>"
      ],
      "text/plain": [
       "                           value   logprob  correct\n",
       "prefix                                             \n",
       "I believe it's             767.0 -3.148062     0.54\n",
       "I don't know maybe it's    767.0 -4.210195     0.39\n",
       "I have no idea maybe it's  767.0 -4.309805     0.36\n",
       "I think it's               767.0 -3.642952     0.48\n",
       "I would guess it's         767.0 -3.539738     0.49\n",
       "I'm pretty sure it's       767.0 -3.694149     0.51\n",
       "Maybe it's                 767.0 -3.051164     0.52\n",
       "Surely it's                767.0 -2.860801     0.55\n",
       "unprompted                 767.0 -2.766922     0.58"
      ]
     },
     "execution_count": 12,
     "metadata": {},
     "output_type": "execute_result"
    }
   ],
   "source": [
    "result = pd.read_csv(OUTPUT_FILE, header=None).drop_duplicates()\n",
    "result.columns=['prompt', 'example_question', 'example_answer', 'question', 'answer', 'value', 'category', 'prefix', 'prediction', 'logprob']\n",
    "result['prefix'] = result['prefix'].fillna(\"unprompted\")\n",
    "result = result.dropna()\n",
    "#check if the prediction is in the answer (no partial credits)\n",
    "result['correct'] = result.apply(lambda x: check_answer_aliases(str(x['answer']), str(x['prediction'])), axis=1)\n",
    "#preprocessing\n",
    "result['value'] = result['value'].str.replace(\"$\", \"\").astype(int)\n",
    "\n",
    "result.groupby(\"prefix\").mean()\n"
   ]
  },
  {
   "cell_type": "code",
   "execution_count": 13,
   "id": "45759211",
   "metadata": {},
   "outputs": [
    {
     "data": {
      "text/plain": [
       "prompt              Q: Henry ___ Longfellow\\nA: I believe it's Wad...\n",
       "example_question    Henry ___ LongfellowIn 1884 Ottmar Mergenthale...\n",
       "example_answer      Wadsworththe linotype machineAutobahnRhubarbBu...\n",
       "question            In 1995 this \"M'm M'm Good\" soup company bough...\n",
       "answer              Campbell\\'smatadorstarboardEmersonLeverageextr...\n",
       "value                                                           76700\n",
       "category            YOU'VE GOT COMPANYLEFTOVERSYOU'RE A \"STAR\"COLL...\n",
       "prefix              I believe it'sI believe it'sI'm pretty sure it...\n",
       "prediction           Campbell the matador starboard Emerson Levera...\n",
       "logprob                                                    -94.831978\n",
       "correct                                                            65\n",
       "dtype: object"
      ]
     },
     "execution_count": 13,
     "metadata": {},
     "output_type": "execute_result"
    }
   ],
   "source": [
    "idx = result.groupby(['question'])['logprob'].transform(max) == result['logprob']\n",
    "result[idx].sum()"
   ]
  },
  {
   "cell_type": "code",
   "execution_count": 14,
   "id": "702befb6",
   "metadata": {},
   "outputs": [
    {
     "name": "stderr",
     "output_type": "stream",
     "text": [
      "/tmp/ipykernel_3976922/2722327023.py:1: FutureWarning: Dropping of nuisance columns in DataFrame reductions (with 'numeric_only=None') is deprecated; in a future version this will raise TypeError.  Select only valid columns before calling the reduction.\n",
      "  result[idx].mean()\n"
     ]
    },
    {
     "data": {
      "text/plain": [
       "value      767.00000\n",
       "logprob     -0.94832\n",
       "correct      0.65000\n",
       "dtype: float64"
      ]
     },
     "execution_count": 14,
     "metadata": {},
     "output_type": "execute_result"
    }
   ],
   "source": [
    "result[idx].mean()"
   ]
  },
  {
   "cell_type": "code",
   "execution_count": 15,
   "id": "f4ff9b67",
   "metadata": {
    "scrolled": false
   },
   "outputs": [
    {
     "data": {
      "text/html": [
       "<div>\n",
       "<style scoped>\n",
       "    .dataframe tbody tr th:only-of-type {\n",
       "        vertical-align: middle;\n",
       "    }\n",
       "\n",
       "    .dataframe tbody tr th {\n",
       "        vertical-align: top;\n",
       "    }\n",
       "\n",
       "    .dataframe thead th {\n",
       "        text-align: right;\n",
       "    }\n",
       "</style>\n",
       "<table border=\"1\" class=\"dataframe\">\n",
       "  <thead>\n",
       "    <tr style=\"text-align: right;\">\n",
       "      <th></th>\n",
       "      <th>value</th>\n",
       "      <th>logprob</th>\n",
       "      <th>correct</th>\n",
       "    </tr>\n",
       "    <tr>\n",
       "      <th>question</th>\n",
       "      <th></th>\n",
       "      <th></th>\n",
       "      <th></th>\n",
       "    </tr>\n",
       "  </thead>\n",
       "  <tbody>\n",
       "    <tr>\n",
       "      <th>The Tonkinese,&lt;br /&gt;the Tajikistani,&lt;br /&gt;the Texarkanese</th>\n",
       "      <td>7200</td>\n",
       "      <td>-77.135677</td>\n",
       "      <td>0</td>\n",
       "    </tr>\n",
       "    <tr>\n",
       "      <th>January 14, 1984:&lt;br /&gt;After passing through the golden arches</th>\n",
       "      <td>7200</td>\n",
       "      <td>-36.796196</td>\n",
       "      <td>0</td>\n",
       "    </tr>\n",
       "    <tr>\n",
       "      <th>Pronounced one way, it's an injury; pronounced another, it can mean turned &amp; tightened, like certain clocks</th>\n",
       "      <td>10800</td>\n",
       "      <td>-48.277291</td>\n",
       "      <td>0</td>\n",
       "    </tr>\n",
       "    <tr>\n",
       "      <th>Seen here, its inflated size makes it hard for predators to swallow</th>\n",
       "      <td>9000</td>\n",
       "      <td>-46.901290</td>\n",
       "      <td>0</td>\n",
       "    </tr>\n",
       "    <tr>\n",
       "      <th>The Hustle,&lt;br /&gt;the Charleston,&lt;br /&gt;the Funky Chicken</th>\n",
       "      <td>1800</td>\n",
       "      <td>-51.680236</td>\n",
       "      <td>0</td>\n",
       "    </tr>\n",
       "    <tr>\n",
       "      <th>...</th>\n",
       "      <td>...</td>\n",
       "      <td>...</td>\n",
       "      <td>...</td>\n",
       "    </tr>\n",
       "    <tr>\n",
       "      <th>Going from rags to riches is what sociologists call \"social\" this, specifically the \"upward\" type</th>\n",
       "      <td>1800</td>\n",
       "      <td>-5.539975</td>\n",
       "      <td>9</td>\n",
       "    </tr>\n",
       "    <tr>\n",
       "      <th>The bulb used in cooking rarely produces seeds; most people break it into cloves &amp; plant them</th>\n",
       "      <td>3600</td>\n",
       "      <td>-17.109642</td>\n",
       "      <td>9</td>\n",
       "    </tr>\n",
       "    <tr>\n",
       "      <th>The crepe ring is the transparent C ring in this planet's ring system</th>\n",
       "      <td>3600</td>\n",
       "      <td>-2.177879</td>\n",
       "      <td>9</td>\n",
       "    </tr>\n",
       "    <tr>\n",
       "      <th>This man who led Argentina to the 1986 World Cup soccer title played for Italy's Napoli from 1984 to 1991</th>\n",
       "      <td>3600</td>\n",
       "      <td>-7.331354</td>\n",
       "      <td>9</td>\n",
       "    </tr>\n",
       "    <tr>\n",
       "      <th>Family memorabilia can be found at this author's parents' \"Little House\" in De Smet, South Dakota</th>\n",
       "      <td>7200</td>\n",
       "      <td>-12.596978</td>\n",
       "      <td>9</td>\n",
       "    </tr>\n",
       "  </tbody>\n",
       "</table>\n",
       "<p>100 rows × 3 columns</p>\n",
       "</div>"
      ],
      "text/plain": [
       "                                                    value    logprob  correct\n",
       "question                                                                     \n",
       "The Tonkinese,<br />the Tajikistani,<br />the T...   7200 -77.135677        0\n",
       "January 14, 1984:<br />After passing through th...   7200 -36.796196        0\n",
       "Pronounced one way, it's an injury; pronounced ...  10800 -48.277291        0\n",
       "Seen here, its inflated size makes it hard for ...   9000 -46.901290        0\n",
       "The Hustle,<br />the Charleston,<br />the Funky...   1800 -51.680236        0\n",
       "...                                                   ...        ...      ...\n",
       "Going from rags to riches is what sociologists ...   1800  -5.539975        9\n",
       "The bulb used in cooking rarely produces seeds;...   3600 -17.109642        9\n",
       "The crepe ring is the transparent C ring in thi...   3600  -2.177879        9\n",
       "This man who led Argentina to the 1986 World Cu...   3600  -7.331354        9\n",
       "Family memorabilia can be found at this author'...   7200 -12.596978        9\n",
       "\n",
       "[100 rows x 3 columns]"
      ]
     },
     "execution_count": 15,
     "metadata": {},
     "output_type": "execute_result"
    }
   ],
   "source": [
    "# pd.set_option('display.max_rows', 20)\n",
    "\n",
    "result.groupby(\"question\").sum().sort_values(by='correct')"
   ]
  },
  {
   "cell_type": "code",
   "execution_count": 25,
   "id": "8cfa2b20",
   "metadata": {},
   "outputs": [
    {
     "name": "stdout",
     "output_type": "stream",
     "text": [
      "I believe it's           correct     value\n",
      "correct  1.000000  0.233712\n",
      "value    0.233712  1.000000\n",
      "I don't know maybe it's           correct     value\n",
      "correct  1.000000 -0.059948\n",
      "value   -0.059948  1.000000\n",
      "I have no idea maybe it's           correct     value\n",
      "correct  1.000000 -0.366921\n",
      "value   -0.366921  1.000000\n",
      "I think it's           correct     value\n",
      "correct  1.000000  0.258442\n",
      "value    0.258442  1.000000\n",
      "I would guess it's           correct     value\n",
      "correct  1.000000  0.211474\n",
      "value    0.211474  1.000000\n",
      "I'm pretty sure it's           correct     value\n",
      "correct  1.000000  0.313677\n",
      "value    0.313677  1.000000\n",
      "Maybe it's           correct     value\n",
      "correct  1.000000 -0.184787\n",
      "value   -0.184787  1.000000\n",
      "Surely it's           correct     value\n",
      "correct  1.000000  0.202012\n",
      "value    0.202012  1.000000\n",
      "unprompted           correct     value\n",
      "correct  1.000000  0.066302\n",
      "value    0.066302  1.000000\n"
     ]
    }
   ],
   "source": [
    "for n, group in result.groupby(\"prefix\"):\n",
    "    print(n, group.groupby(\"value\").mean().reset_index()[['correct', 'value']].corr('pearson'))\n"
   ]
  },
  {
   "cell_type": "code",
   "execution_count": 24,
   "id": "f14f386b",
   "metadata": {},
   "outputs": [
    {
     "data": {
      "text/html": [
       "<div>\n",
       "<style scoped>\n",
       "    .dataframe tbody tr th:only-of-type {\n",
       "        vertical-align: middle;\n",
       "    }\n",
       "\n",
       "    .dataframe tbody tr th {\n",
       "        vertical-align: top;\n",
       "    }\n",
       "\n",
       "    .dataframe thead th {\n",
       "        text-align: right;\n",
       "    }\n",
       "</style>\n",
       "<table border=\"1\" class=\"dataframe\">\n",
       "  <thead>\n",
       "    <tr style=\"text-align: right;\">\n",
       "      <th></th>\n",
       "      <th>correct</th>\n",
       "      <th>value</th>\n",
       "    </tr>\n",
       "  </thead>\n",
       "  <tbody>\n",
       "    <tr>\n",
       "      <th>0</th>\n",
       "      <td>0.833333</td>\n",
       "      <td>100</td>\n",
       "    </tr>\n",
       "    <tr>\n",
       "      <th>1</th>\n",
       "      <td>0.428571</td>\n",
       "      <td>200</td>\n",
       "    </tr>\n",
       "    <tr>\n",
       "      <th>2</th>\n",
       "      <td>0.000000</td>\n",
       "      <td>300</td>\n",
       "    </tr>\n",
       "    <tr>\n",
       "      <th>3</th>\n",
       "      <td>0.722222</td>\n",
       "      <td>400</td>\n",
       "    </tr>\n",
       "    <tr>\n",
       "      <th>4</th>\n",
       "      <td>1.000000</td>\n",
       "      <td>500</td>\n",
       "    </tr>\n",
       "    <tr>\n",
       "      <th>5</th>\n",
       "      <td>0.166667</td>\n",
       "      <td>600</td>\n",
       "    </tr>\n",
       "    <tr>\n",
       "      <th>6</th>\n",
       "      <td>0.571429</td>\n",
       "      <td>800</td>\n",
       "    </tr>\n",
       "    <tr>\n",
       "      <th>7</th>\n",
       "      <td>0.625000</td>\n",
       "      <td>1000</td>\n",
       "    </tr>\n",
       "    <tr>\n",
       "      <th>8</th>\n",
       "      <td>0.444444</td>\n",
       "      <td>1200</td>\n",
       "    </tr>\n",
       "    <tr>\n",
       "      <th>9</th>\n",
       "      <td>0.333333</td>\n",
       "      <td>1600</td>\n",
       "    </tr>\n",
       "    <tr>\n",
       "      <th>10</th>\n",
       "      <td>0.800000</td>\n",
       "      <td>2000</td>\n",
       "    </tr>\n",
       "  </tbody>\n",
       "</table>\n",
       "</div>"
      ],
      "text/plain": [
       "     correct  value\n",
       "0   0.833333    100\n",
       "1   0.428571    200\n",
       "2   0.000000    300\n",
       "3   0.722222    400\n",
       "4   1.000000    500\n",
       "5   0.166667    600\n",
       "6   0.571429    800\n",
       "7   0.625000   1000\n",
       "8   0.444444   1200\n",
       "9   0.333333   1600\n",
       "10  0.800000   2000"
      ]
     },
     "execution_count": 24,
     "metadata": {},
     "output_type": "execute_result"
    }
   ],
   "source": [
    "group.groupby(\"value\").mean().reset_index()[['correct', 'value']]"
   ]
  },
  {
   "cell_type": "markdown",
   "id": "9e20197d",
   "metadata": {},
   "source": [
    "# Calibration"
   ]
  },
  {
   "cell_type": "code",
   "execution_count": 17,
   "id": "024328fc",
   "metadata": {},
   "outputs": [
    {
     "name": "stderr",
     "output_type": "stream",
     "text": [
      "/tmp/ipykernel_699910/4056508172.py:8: FutureWarning: The default value of regex will change from True to False in a future version. In addition, single character regular expressions will *not* be treated as literal strings when regex=True.\n",
      "  result['value'] = result['value'].str.replace(\"$\", \"\").astype(int)\n"
     ]
    },
    {
     "data": {
      "text/html": [
       "<div>\n",
       "<style scoped>\n",
       "    .dataframe tbody tr th:only-of-type {\n",
       "        vertical-align: middle;\n",
       "    }\n",
       "\n",
       "    .dataframe tbody tr th {\n",
       "        vertical-align: top;\n",
       "    }\n",
       "\n",
       "    .dataframe thead th {\n",
       "        text-align: right;\n",
       "    }\n",
       "</style>\n",
       "<table border=\"1\" class=\"dataframe\">\n",
       "  <thead>\n",
       "    <tr style=\"text-align: right;\">\n",
       "      <th></th>\n",
       "      <th>value</th>\n",
       "      <th>logprob</th>\n",
       "      <th>correct</th>\n",
       "    </tr>\n",
       "    <tr>\n",
       "      <th>prefix</th>\n",
       "      <th></th>\n",
       "      <th></th>\n",
       "      <th></th>\n",
       "    </tr>\n",
       "  </thead>\n",
       "  <tbody>\n",
       "    <tr>\n",
       "      <th>I believe it's</th>\n",
       "      <td>767.0</td>\n",
       "      <td>-3.148062</td>\n",
       "      <td>0.54</td>\n",
       "    </tr>\n",
       "    <tr>\n",
       "      <th>I don't know maybe it's</th>\n",
       "      <td>767.0</td>\n",
       "      <td>-4.210195</td>\n",
       "      <td>0.39</td>\n",
       "    </tr>\n",
       "    <tr>\n",
       "      <th>I have no idea maybe it's</th>\n",
       "      <td>767.0</td>\n",
       "      <td>-4.309805</td>\n",
       "      <td>0.36</td>\n",
       "    </tr>\n",
       "    <tr>\n",
       "      <th>I think it's</th>\n",
       "      <td>767.0</td>\n",
       "      <td>-3.642952</td>\n",
       "      <td>0.48</td>\n",
       "    </tr>\n",
       "    <tr>\n",
       "      <th>I would guess it's</th>\n",
       "      <td>767.0</td>\n",
       "      <td>-3.539738</td>\n",
       "      <td>0.49</td>\n",
       "    </tr>\n",
       "    <tr>\n",
       "      <th>I'm pretty sure it's</th>\n",
       "      <td>767.0</td>\n",
       "      <td>-3.694149</td>\n",
       "      <td>0.51</td>\n",
       "    </tr>\n",
       "    <tr>\n",
       "      <th>Maybe it's</th>\n",
       "      <td>767.0</td>\n",
       "      <td>-3.051164</td>\n",
       "      <td>0.52</td>\n",
       "    </tr>\n",
       "    <tr>\n",
       "      <th>Surely it's</th>\n",
       "      <td>767.0</td>\n",
       "      <td>-2.860801</td>\n",
       "      <td>0.55</td>\n",
       "    </tr>\n",
       "    <tr>\n",
       "      <th>unprompted</th>\n",
       "      <td>767.0</td>\n",
       "      <td>-2.766922</td>\n",
       "      <td>0.58</td>\n",
       "    </tr>\n",
       "  </tbody>\n",
       "</table>\n",
       "</div>"
      ],
      "text/plain": [
       "                           value   logprob  correct\n",
       "prefix                                             \n",
       "I believe it's             767.0 -3.148062     0.54\n",
       "I don't know maybe it's    767.0 -4.210195     0.39\n",
       "I have no idea maybe it's  767.0 -4.309805     0.36\n",
       "I think it's               767.0 -3.642952     0.48\n",
       "I would guess it's         767.0 -3.539738     0.49\n",
       "I'm pretty sure it's       767.0 -3.694149     0.51\n",
       "Maybe it's                 767.0 -3.051164     0.52\n",
       "Surely it's                767.0 -2.860801     0.55\n",
       "unprompted                 767.0 -2.766922     0.58"
      ]
     },
     "execution_count": 17,
     "metadata": {},
     "output_type": "execute_result"
    }
   ],
   "source": [
    "result = pd.read_csv(OUTPUT_FILE, header=None).drop_duplicates()\n",
    "result.columns=['prompt', 'example_question', 'example_answer', 'question', 'answer', 'value', 'category', 'prefix', 'prediction', 'logprob']\n",
    "result['prefix'] = result['prefix'].fillna(\"unprompted\")\n",
    "result = result.dropna()\n",
    "#check if the prediction is in the answer (no partial credits)\n",
    "result['correct'] = result.apply(lambda x: check_answer_aliases(str(x['answer']), str(x['prediction'])), axis=1)\n",
    "#preprocessing\n",
    "result['value'] = result['value'].str.replace(\"$\", \"\").astype(int)\n",
    "\n",
    "result.groupby(\"prefix\").mean()\n"
   ]
  },
  {
   "cell_type": "code",
   "execution_count": 22,
   "id": "59fb0bad",
   "metadata": {
    "scrolled": false
   },
   "outputs": [
    {
     "data": {
      "image/png": "[encoded data removed]",
      "text/plain": [
       "<Figure size 432x288 with 1 Axes>"
      ]
     },
     "metadata": {
      "needs_background": "light"
     },
     "output_type": "display_data"
    },
    {
     "data": {
      "image/png": "[encoded data removed]",
      "text/plain": [
       "<Figure size 432x288 with 1 Axes>"
      ]
     },
     "metadata": {
      "needs_background": "light"
     },
     "output_type": "display_data"
    },
    {
     "data": {
      "image/png": "[encoded data removed]",
      "text/plain": [
       "<Figure size 432x288 with 1 Axes>"
      ]
     },
     "metadata": {
      "needs_background": "light"
     },
     "output_type": "display_data"
    },
    {
     "data": {
      "image/png": "[encoded data removed]",
      "text/plain": [
       "<Figure size 432x288 with 1 Axes>"
      ]
     },
     "metadata": {
      "needs_background": "light"
     },
     "output_type": "display_data"
    },
    {
     "data": {
      "image/png": "[encoded data removed]",
      "text/plain": [
       "<Figure size 432x288 with 1 Axes>"
      ]
     },
     "metadata": {
      "needs_background": "light"
     },
     "output_type": "display_data"
    },
    {
     "data": {
      "image/png": "[encoded data removed]",
      "text/plain": [
       "<Figure size 432x288 with 1 Axes>"
      ]
     },
     "metadata": {
      "needs_background": "light"
     },
     "output_type": "display_data"
    },
    {
     "data": {
      "image/png": "[encoded data removed]",
      "text/plain": [
       "<Figure size 432x288 with 1 Axes>"
      ]
     },
     "metadata": {
      "needs_background": "light"
     },
     "output_type": "display_data"
    },
    {
     "data": {
      "image/png": "[encoded data removed]",
      "text/plain": [
       "<Figure size 432x288 with 1 Axes>"
      ]
     },
     "metadata": {
      "needs_background": "light"
     },
     "output_type": "display_data"
    },
    {
     "data": {
      "image/png": "[encoded data removed]",
      "text/plain": [
       "<Figure size 432x288 with 1 Axes>"
      ]
     },
     "metadata": {
      "needs_background": "light"
     },
     "output_type": "display_data"
    }
   ],
   "source": [
    "import numpy as np\n",
    "import sklearn\n",
    "from sklearn.metrics import brier_score_loss\n",
    "\n",
    "result['prob'] = result['logprob'].apply(lambda x: np.e**x)\n",
    "\n",
    "grouped = result.groupby(\"prefix\")\n",
    "    \n",
    "for prefix, group in grouped:\n",
    "    accuracy = group['correct'].mean()\n",
    "    group['prob_bins'] = pd.cut(np.array(group['prob'].values), 10)\n",
    "#     group = group.groupby('prob').mean()\n",
    "    brier_score = brier_score_loss(group['correct'].values, group['prob'].values)\n",
    "    group = group.groupby('prob_bins').mean().reset_index().sort_values(by='prob_bins').reset_index()\n",
    "    group.plot.scatter(x='prob', y='correct', title= \"\\\"\" + prefix + \"\\\"\" + \" Brier : \" + str(round(brier_score, 4)) + \" Accuracy: \" + str(round(accuracy, 4)))\n",
    "\n"
   ]
  },
  {
   "cell_type": "markdown",
   "id": "aac75740",
   "metadata": {},
   "source": [
    "# Other stuff"
   ]
  },
  {
   "cell_type": "code",
   "execution_count": null,
   "id": "85238546",
   "metadata": {},
   "outputs": [],
   "source": [
    "best_result = pd.DataFrame()\n",
    "\n",
    "grouped = result.groupby('question')\n",
    "\n",
    "for question, group in grouped:\n",
    "    #set a very negative value\n",
    "    best_prediction = -1000\n",
    "    \n",
    "    for m, row in group.iterrows():\n",
    "        #if the logprob is higher, then set that to be the best value\n",
    "        if row['logprob'] > best_prediction:\n",
    "            best_prediction = row['logprob']\n",
    "            correct = row['correct']\n",
    "            prediction = row['prediction']\n",
    "            answer = row['answer']\n",
    "            prefix = row['prefix']\n",
    "\n",
    "    best_result = pd.concat([best_result, pd.DataFrame([[question, prefix, best_prediction, prediction, correct, answer]])], axis=0)\n",
    "best_result.columns = ['question', 'prefix', 'best_prediction', 'prediction', 'correct', 'answer']"
   ]
  },
  {
   "cell_type": "code",
   "execution_count": 42,
   "id": "2ecd1a71",
   "metadata": {},
   "outputs": [
    {
     "name": "stderr",
     "output_type": "stream",
     "text": [
      "/tmp/ipykernel_584478/279176661.py:1: FutureWarning: Dropping of nuisance columns in DataFrame reductions (with 'numeric_only=None') is deprecated; in a future version this will raise TypeError.  Select only valid columns before calling the reduction.\n",
      "  best_result.mean()\n"
     ]
    },
    {
     "data": {
      "text/plain": [
       "best_prediction   -0.94832\n",
       "correct            0.65000\n",
       "dtype: float64"
      ]
     },
     "execution_count": 42,
     "metadata": {},
     "output_type": "execute_result"
    }
   ],
   "source": [
    "best_result.sum()"
   ]
  },
  {
   "cell_type": "code",
   "execution_count": 27,
   "id": "116609d1",
   "metadata": {},
   "outputs": [
    {
     "data": {
      "text/html": [
       "<div>\n",
       "<style scoped>\n",
       "    .dataframe tbody tr th:only-of-type {\n",
       "        vertical-align: middle;\n",
       "    }\n",
       "\n",
       "    .dataframe tbody tr th {\n",
       "        vertical-align: top;\n",
       "    }\n",
       "\n",
       "    .dataframe thead th {\n",
       "        text-align: right;\n",
       "    }\n",
       "</style>\n",
       "<table border=\"1\" class=\"dataframe\">\n",
       "  <thead>\n",
       "    <tr style=\"text-align: right;\">\n",
       "      <th></th>\n",
       "      <th>best_prediction</th>\n",
       "      <th>correct</th>\n",
       "    </tr>\n",
       "    <tr>\n",
       "      <th>prefix</th>\n",
       "      <th></th>\n",
       "      <th></th>\n",
       "    </tr>\n",
       "  </thead>\n",
       "  <tbody>\n",
       "    <tr>\n",
       "      <th>I believe it's</th>\n",
       "      <td>-3.158652</td>\n",
       "      <td>9</td>\n",
       "    </tr>\n",
       "    <tr>\n",
       "      <th>I don't know maybe it's</th>\n",
       "      <td>-2.648109</td>\n",
       "      <td>1</td>\n",
       "    </tr>\n",
       "    <tr>\n",
       "      <th>I have no idea maybe it's</th>\n",
       "      <td>-11.766213</td>\n",
       "      <td>0</td>\n",
       "    </tr>\n",
       "    <tr>\n",
       "      <th>I think it's</th>\n",
       "      <td>-5.541513</td>\n",
       "      <td>0</td>\n",
       "    </tr>\n",
       "    <tr>\n",
       "      <th>I would guess it's</th>\n",
       "      <td>-13.070763</td>\n",
       "      <td>8</td>\n",
       "    </tr>\n",
       "    <tr>\n",
       "      <th>I'm pretty sure it's</th>\n",
       "      <td>-6.765428</td>\n",
       "      <td>6</td>\n",
       "    </tr>\n",
       "    <tr>\n",
       "      <th>Maybe it's</th>\n",
       "      <td>-17.049725</td>\n",
       "      <td>4</td>\n",
       "    </tr>\n",
       "    <tr>\n",
       "      <th>Surely it's</th>\n",
       "      <td>-9.232646</td>\n",
       "      <td>9</td>\n",
       "    </tr>\n",
       "    <tr>\n",
       "      <th>unprompted</th>\n",
       "      <td>-25.598928</td>\n",
       "      <td>28</td>\n",
       "    </tr>\n",
       "  </tbody>\n",
       "</table>\n",
       "</div>"
      ],
      "text/plain": [
       "                           best_prediction  correct\n",
       "prefix                                             \n",
       "I believe it's                   -3.158652        9\n",
       "I don't know maybe it's          -2.648109        1\n",
       "I have no idea maybe it's       -11.766213        0\n",
       "I think it's                     -5.541513        0\n",
       "I would guess it's              -13.070763        8\n",
       "I'm pretty sure it's             -6.765428        6\n",
       "Maybe it's                      -17.049725        4\n",
       "Surely it's                      -9.232646        9\n",
       "unprompted                      -25.598928       28"
      ]
     },
     "execution_count": 27,
     "metadata": {},
     "output_type": "execute_result"
    }
   ],
   "source": [
    "best_result.groupby('prefix').sum()"
   ]
  },
  {
   "cell_type": "code",
   "execution_count": null,
   "id": "3006751d",
   "metadata": {},
   "outputs": [],
   "source": []
  }
 ],
 "metadata": {
  "kernelspec": {
   "display_name": "Python 3",
   "language": "python",
   "name": "python3"
  },
  "language_info": {
   "codemirror_mode": {
    "name": "ipython",
    "version": 3
   },
   "file_extension": ".py",
   "mimetype": "text/x-python",
   "name": "python",
   "nbconvert_exporter": "python",
   "pygments_lexer": "ipython3",
   "version": "3.8.12"
  }
 },
 "nbformat": 4,
 "nbformat_minor": 5
}
