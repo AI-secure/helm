{
 "cells": [
  {
   "cell_type": "code",
   "execution_count": 1,
   "id": "372a0efe",
   "metadata": {},
   "outputs": [],
   "source": [
    "from typing import List, Tuple, Dict\n",
    "\n",
    "# A prime number chosen as a base for exponentiation, larger than 171,476 (estimated vocab size of English words)\n",
    "RABIN_KARP_PRIME = 172001\n",
    "\n",
    "# A prime number chosen as a base for hashing characters, larger than 256 (UTF-8 character space)\n",
    "CHAR_PRIME = 401\n",
    "\n",
    "hash_token_cache: Dict[str, int] = {}\n",
    "\n",
    "\n",
    "class RabinKarpHash:\n",
    "    \"\"\"\n",
    "    Rabin-Karp rolling hash for hashing sequences of integers.\n",
    "\n",
    "    Initial hash:\n",
    "        For a List[int] i_0...i_n with a window w where w <= n,\n",
    "        the hash is calculated as:\n",
    "        i_0 * RABIN_KARP_PRIME^(w-1) + i_1 * RABIN_KARP_PRIME^(w-2) + ... + i_{w-1}\n",
    "\n",
    "    high_coefficient:\n",
    "        RABIN_KARP_PRIME^(w-1)\n",
    "    \"\"\"\n",
    "\n",
    "    def __init__(self, int_sequence: List[int], window_size: int, mod: int = 8554560727166512717):\n",
    "        self.window_start = 0\n",
    "        self.window_end = window_size\n",
    "        self.mod = mod\n",
    "        self.high_coefficient = pow(RABIN_KARP_PRIME, window_size - 1, mod)\n",
    "        self.current_hash = 0\n",
    "        self.int_sequence = int_sequence\n",
    "\n",
    "        for i in range(window_size):\n",
    "            self.current_hash = (self.current_hash * RABIN_KARP_PRIME + int_sequence[i]) % mod\n",
    "            print(self.current_hash)\n",
    "        if self.current_hash < 0:\n",
    "            self.current_hash += mod\n",
    "\n",
    "    def mult_mod(self, a: int, b: int, k: int) -> int:\n",
    "        return (a * b) % k\n",
    "\n",
    "    def update(self) -> None:\n",
    "        \"\"\"\n",
    "        Update the rolling hash value when the window slides by one element.\n",
    "\n",
    "        - To efficiently update the hash:\n",
    "        1. Subtract the contribution of the element moving out of the window (start_piece).\n",
    "        2. Multiply the result by RABIN_KARP_PRIME.\n",
    "        3. Add the contribution of the new element entering the window.\n",
    "\n",
    "        Then update the window indices\n",
    "        \"\"\"\n",
    "        start_piece = self.mult_mod(self.int_sequence[self.window_start], self.high_coefficient, self.mod)\n",
    "        self.current_hash = self.mult_mod(self.current_hash - start_piece, RABIN_KARP_PRIME, self.mod)\n",
    "        self.current_hash = (self.current_hash + self.int_sequence[self.window_end]) % self.mod\n",
    "        if self.current_hash < 0:\n",
    "            self.current_hash += self.mod\n",
    "        self.window_start += 1\n",
    "        self.window_end += 1\n",
    "\n",
    "\n",
    "def compute_hashes(int_sequence: List[int], window_size: int) -> List[Tuple[int, int, int]]:\n",
    "    \"\"\"\n",
    "    Computes Rabin-Karp rolling hashes for a list of integers.\n",
    "\n",
    "    Args:\n",
    "        int_sequence (List[int]): List of integers.\n",
    "        window_size (int): Size of the rolling window.\n",
    "\n",
    "    Returns:\n",
    "        List[Tuple[int, int, int]]: List of tuples containing hash value, window start, and window end.\n",
    "    \"\"\"\n",
    "    if len(int_sequence) < window_size:\n",
    "        return []\n",
    "    rk_hash = RabinKarpHash(int_sequence, window_size)\n",
    "    hashes = [(rk_hash.current_hash, rk_hash.window_start, rk_hash.window_end)]\n",
    "    for i in range(len(int_sequence) - window_size):\n",
    "        rk_hash.update()\n",
    "        hash_info = (rk_hash.current_hash, rk_hash.window_start, rk_hash.window_end)\n",
    "        hashes.append(hash_info)\n",
    "\n",
    "    return hashes\n",
    "\n",
    "\n",
    "# mod chosen as large prime of similar size to rabin karp, but distinct\n",
    "def hash_token(token: str, mod: int = 8554560727166512181):\n",
    "    \"\"\"\n",
    "    Hashes a string token into an integer.\n",
    "\n",
    "    Args:\n",
    "        token (str): Input token.\n",
    "        mod (int): Modulus for hashing.\n",
    "\n",
    "    Returns:\n",
    "        int: Hash value.\n",
    "    \"\"\"\n",
    "\n",
    "    # assume mod is constant for space/time efficiency\n",
    "    if token in hash_token_cache:\n",
    "        return hash_token_cache[token]\n",
    "\n",
    "    hash_value = 0\n",
    "    for ch in token:\n",
    "        hash_value = (hash_value * CHAR_PRIME + ord(ch)) % mod\n",
    "\n",
    "    hash_token_cache[token] = hash_value\n",
    "    return hash_value\n",
    "\n",
    "\n",
    "def get_ngram_hashes(tokens: List[str], n: int):\n",
    "    \"\"\"\n",
    "    Computes Rabin-Karp rolling hashes for a list of string tokens.\n",
    "\n",
    "    Args:\n",
    "        tokens (List[str]): List of string tokens.\n",
    "        n (int): Size of the rolling window.\n",
    "\n",
    "    Returns:\n",
    "        List[Tuple[int, int, int]]: List of tuples containing hash value, window start, and window end.\n",
    "    \"\"\"\n",
    "    hashed_tokens = [hash_token(token) for token in tokens]\n",
    "    return compute_hashes(hashed_tokens, n)\n"
   ]
  },
  {
   "cell_type": "code",
   "execution_count": 2,
   "id": "65606969",
   "metadata": {},
   "outputs": [],
   "source": [
    "false_positive = list((\n",
    "    'to', 'our', 'community', 'because', 'of', 'the', 'scale', '”', 'finding', 'returns', 'in', 'property', 'investments'\n",
    "))\n",
    "\n",
    "len_value = 1\n",
    "\n",
    "hash_value = 3812146999411452660\n",
    "\n",
    "hash_tuple = list((\n",
    "    '87', '13', 'insofar', 'as', 'the', 'exporter', 'concerned', 'can', 'supply', 'proof', 'to', 'the', 'satisfaction'\n",
    "))"
   ]
  },
  {
   "cell_type": "code",
   "execution_count": 3,
   "id": "99b12abe",
   "metadata": {},
   "outputs": [
    {
     "name": "stdout",
     "output_type": "stream",
     "text": [
      "46627\n",
      "8037786569\n",
      "351858060723599987\n",
      "5384235220600376257\n",
      "2761537620149420601\n",
      "3802388127059388614\n",
      "1283531987620620650\n",
      "1236716748178741252\n",
      "7790112233239456582\n",
      "6722575650850594459\n",
      "3979273764239678652\n",
      "4783122840134100499\n",
      "3812146999411452660\n"
     ]
    },
    {
     "data": {
      "text/plain": [
       "[(3812146999411452660, 0, 13)]"
      ]
     },
     "execution_count": 3,
     "metadata": {},
     "output_type": "execute_result"
    }
   ],
   "source": [
    "get_ngram_hashes(false_positive, 13)"
   ]
  },
  {
   "cell_type": "code",
   "execution_count": 4,
   "id": "d903e4be",
   "metadata": {},
   "outputs": [
    {
     "name": "stdout",
     "output_type": "stream",
     "text": [
      "22511\n",
      "3871934211\n",
      "438381162509136565\n",
      "2100083488355267939\n",
      "133375988459995335\n",
      "3831051992726420191\n",
      "4424638033667372081\n",
      "2780457907210419916\n",
      "7378802008997725833\n",
      "6694870097362757463\n",
      "3486693334536117437\n",
      "5815016265546463590\n",
      "3812146999411452660\n"
     ]
    },
    {
     "data": {
      "text/plain": [
       "[(3812146999411452660, 0, 13)]"
      ]
     },
     "execution_count": 4,
     "metadata": {},
     "output_type": "execute_result"
    }
   ],
   "source": [
    "get_ngram_hashes(hash_tuple, 13)"
   ]
  },
  {
   "cell_type": "code",
   "execution_count": 5,
   "id": "7d8650cd",
   "metadata": {},
   "outputs": [
    {
     "data": {
      "text/plain": [
       "[46627,\n",
       " 17895942,\n",
       " 350475553395945418,\n",
       " 408516676589972328,\n",
       " 44613,\n",
       " 18694721,\n",
       " 2979949864120,\n",
       " 8221,\n",
       " 425189736904079535,\n",
       " 475042321965897587,\n",
       " 42215,\n",
       " 7565619716682252300,\n",
       " 2560213424686030768]"
      ]
     },
     "execution_count": 5,
     "metadata": {},
     "output_type": "execute_result"
    }
   ],
   "source": [
    "[hash_token_cache[token] for token in false_positive]"
   ]
  },
  {
   "cell_type": "code",
   "execution_count": 6,
   "id": "8027e5c1",
   "metadata": {},
   "outputs": [
    {
     "data": {
      "text/plain": [
       "[22511,\n",
       " 19700,\n",
       " 437715185952910354,\n",
       " 39012,\n",
       " 18694721,\n",
       " 6359531145655911850,\n",
       " 354529278809664966,\n",
       " 15958306,\n",
       " 1195426288685085,\n",
       " 2903348449750,\n",
       " 46627,\n",
       " 18694721,\n",
       " 5885116323627867993]"
      ]
     },
     "execution_count": 6,
     "metadata": {},
     "output_type": "execute_result"
    }
   ],
   "source": [
    "[hash_token_cache[token] for token in hash_tuple]"
   ]
  },
  {
   "cell_type": "code",
   "execution_count": null,
   "id": "4f63c366",
   "metadata": {},
   "outputs": [],
   "source": []
  }
 ],
 "metadata": {
  "kernelspec": {
   "display_name": "venv",
   "language": "python",
   "name": "venv"
  },
  "language_info": {
   "codemirror_mode": {
    "name": "ipython",
    "version": 3
   },
   "file_extension": ".py",
   "mimetype": "text/x-python",
   "name": "python",
   "nbconvert_exporter": "python",
   "pygments_lexer": "ipython3",
   "version": "3.10.9"
  }
 },
 "nbformat": 4,
 "nbformat_minor": 5
}
